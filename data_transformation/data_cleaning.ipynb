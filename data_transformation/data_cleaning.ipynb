{
 "metadata": {
  "language_info": {
   "codemirror_mode": {
    "name": "ipython",
    "version": 3
   },
   "file_extension": ".py",
   "mimetype": "text/x-python",
   "name": "python",
   "nbconvert_exporter": "python",
   "pygments_lexer": "ipython3",
   "version": "3.8.5-final"
  },
  "orig_nbformat": 2,
  "kernelspec": {
   "name": "python3",
   "display_name": "Python 3",
   "language": "python"
  }
 },
 "nbformat": 4,
 "nbformat_minor": 2,
 "cells": [
  {
   "cell_type": "code",
   "execution_count": 1,
   "metadata": {},
   "outputs": [],
   "source": [
    "import pandas as pd\n",
    "import numpy as np"
   ]
  },
  {
   "cell_type": "code",
   "execution_count": 2,
   "metadata": {},
   "outputs": [
    {
     "output_type": "execute_result",
     "data": {
      "text/plain": [
       "         Date  Season                     home               visitor   FT  \\\n",
       "0  1888-09-08    1888         Bolton Wanderers          Derby County  3-6   \n",
       "1  1888-09-08    1888                  Everton       Accrington F.C.  2-1   \n",
       "2  1888-09-08    1888        Preston North End               Burnley  5-2   \n",
       "3  1888-09-08    1888               Stoke City  West Bromwich Albion  0-2   \n",
       "4  1888-09-08    1888  Wolverhampton Wanderers           Aston Villa  1-1   \n",
       "\n",
       "   hgoal  vgoal  division  tier  totgoal  goaldif result  \n",
       "0      3      6         1     1        9       -3      A  \n",
       "1      2      1         1     1        3        1      H  \n",
       "2      5      2         1     1        7        3      H  \n",
       "3      0      2         1     1        2       -2      A  \n",
       "4      1      1         1     1        2        0      D  "
      ],
      "text/html": "<div>\n<style scoped>\n    .dataframe tbody tr th:only-of-type {\n        vertical-align: middle;\n    }\n\n    .dataframe tbody tr th {\n        vertical-align: top;\n    }\n\n    .dataframe thead th {\n        text-align: right;\n    }\n</style>\n<table border=\"1\" class=\"dataframe\">\n  <thead>\n    <tr style=\"text-align: right;\">\n      <th></th>\n      <th>Date</th>\n      <th>Season</th>\n      <th>home</th>\n      <th>visitor</th>\n      <th>FT</th>\n      <th>hgoal</th>\n      <th>vgoal</th>\n      <th>division</th>\n      <th>tier</th>\n      <th>totgoal</th>\n      <th>goaldif</th>\n      <th>result</th>\n    </tr>\n  </thead>\n  <tbody>\n    <tr>\n      <th>0</th>\n      <td>1888-09-08</td>\n      <td>1888</td>\n      <td>Bolton Wanderers</td>\n      <td>Derby County</td>\n      <td>3-6</td>\n      <td>3</td>\n      <td>6</td>\n      <td>1</td>\n      <td>1</td>\n      <td>9</td>\n      <td>-3</td>\n      <td>A</td>\n    </tr>\n    <tr>\n      <th>1</th>\n      <td>1888-09-08</td>\n      <td>1888</td>\n      <td>Everton</td>\n      <td>Accrington F.C.</td>\n      <td>2-1</td>\n      <td>2</td>\n      <td>1</td>\n      <td>1</td>\n      <td>1</td>\n      <td>3</td>\n      <td>1</td>\n      <td>H</td>\n    </tr>\n    <tr>\n      <th>2</th>\n      <td>1888-09-08</td>\n      <td>1888</td>\n      <td>Preston North End</td>\n      <td>Burnley</td>\n      <td>5-2</td>\n      <td>5</td>\n      <td>2</td>\n      <td>1</td>\n      <td>1</td>\n      <td>7</td>\n      <td>3</td>\n      <td>H</td>\n    </tr>\n    <tr>\n      <th>3</th>\n      <td>1888-09-08</td>\n      <td>1888</td>\n      <td>Stoke City</td>\n      <td>West Bromwich Albion</td>\n      <td>0-2</td>\n      <td>0</td>\n      <td>2</td>\n      <td>1</td>\n      <td>1</td>\n      <td>2</td>\n      <td>-2</td>\n      <td>A</td>\n    </tr>\n    <tr>\n      <th>4</th>\n      <td>1888-09-08</td>\n      <td>1888</td>\n      <td>Wolverhampton Wanderers</td>\n      <td>Aston Villa</td>\n      <td>1-1</td>\n      <td>1</td>\n      <td>1</td>\n      <td>1</td>\n      <td>1</td>\n      <td>2</td>\n      <td>0</td>\n      <td>D</td>\n    </tr>\n  </tbody>\n</table>\n</div>"
     },
     "metadata": {},
     "execution_count": 2
    }
   ],
   "source": [
    "data = pd.read_csv(\"../data/england.csv\")\n",
    "data = data[(data.division != '3S')]\n",
    "data = data[(data.division != '3N')]\n",
    "data = data.astype({'division':int})\n",
    "data = data[data.division == 1]\n",
    "data.head()"
   ]
  },
  {
   "source": [
    "# Obtain First Division from season 1980 "
   ],
   "cell_type": "markdown",
   "metadata": {}
  },
  {
   "cell_type": "code",
   "execution_count": 3,
   "metadata": {},
   "outputs": [
    {
     "output_type": "execute_result",
     "data": {
      "text/plain": [
       "              Date  Season                    home                  visitor  \\\n",
       "118802  1980-08-16    1980         Birmingham City            Coventry City   \n",
       "118803  1980-08-16    1980  Brighton & Hove Albion  Wolverhampton Wanderers   \n",
       "118804  1980-08-16    1980            Leeds United              Aston Villa   \n",
       "118805  1980-08-16    1980          Leicester City             Ipswich Town   \n",
       "118806  1980-08-16    1980               Liverpool           Crystal Palace   \n",
       "\n",
       "         FT  hgoal  vgoal  division  tier  totgoal  goaldif result  \n",
       "118802  3-1      3      1         1     1        4        2      H  \n",
       "118803  2-0      2      0         1     1        2        2      H  \n",
       "118804  1-2      1      2         1     1        3       -1      A  \n",
       "118805  0-1      0      1         1     1        1       -1      A  \n",
       "118806  3-0      3      0         1     1        3        3      H  "
      ],
      "text/html": "<div>\n<style scoped>\n    .dataframe tbody tr th:only-of-type {\n        vertical-align: middle;\n    }\n\n    .dataframe tbody tr th {\n        vertical-align: top;\n    }\n\n    .dataframe thead th {\n        text-align: right;\n    }\n</style>\n<table border=\"1\" class=\"dataframe\">\n  <thead>\n    <tr style=\"text-align: right;\">\n      <th></th>\n      <th>Date</th>\n      <th>Season</th>\n      <th>home</th>\n      <th>visitor</th>\n      <th>FT</th>\n      <th>hgoal</th>\n      <th>vgoal</th>\n      <th>division</th>\n      <th>tier</th>\n      <th>totgoal</th>\n      <th>goaldif</th>\n      <th>result</th>\n    </tr>\n  </thead>\n  <tbody>\n    <tr>\n      <th>118802</th>\n      <td>1980-08-16</td>\n      <td>1980</td>\n      <td>Birmingham City</td>\n      <td>Coventry City</td>\n      <td>3-1</td>\n      <td>3</td>\n      <td>1</td>\n      <td>1</td>\n      <td>1</td>\n      <td>4</td>\n      <td>2</td>\n      <td>H</td>\n    </tr>\n    <tr>\n      <th>118803</th>\n      <td>1980-08-16</td>\n      <td>1980</td>\n      <td>Brighton &amp; Hove Albion</td>\n      <td>Wolverhampton Wanderers</td>\n      <td>2-0</td>\n      <td>2</td>\n      <td>0</td>\n      <td>1</td>\n      <td>1</td>\n      <td>2</td>\n      <td>2</td>\n      <td>H</td>\n    </tr>\n    <tr>\n      <th>118804</th>\n      <td>1980-08-16</td>\n      <td>1980</td>\n      <td>Leeds United</td>\n      <td>Aston Villa</td>\n      <td>1-2</td>\n      <td>1</td>\n      <td>2</td>\n      <td>1</td>\n      <td>1</td>\n      <td>3</td>\n      <td>-1</td>\n      <td>A</td>\n    </tr>\n    <tr>\n      <th>118805</th>\n      <td>1980-08-16</td>\n      <td>1980</td>\n      <td>Leicester City</td>\n      <td>Ipswich Town</td>\n      <td>0-1</td>\n      <td>0</td>\n      <td>1</td>\n      <td>1</td>\n      <td>1</td>\n      <td>1</td>\n      <td>-1</td>\n      <td>A</td>\n    </tr>\n    <tr>\n      <th>118806</th>\n      <td>1980-08-16</td>\n      <td>1980</td>\n      <td>Liverpool</td>\n      <td>Crystal Palace</td>\n      <td>3-0</td>\n      <td>3</td>\n      <td>0</td>\n      <td>1</td>\n      <td>1</td>\n      <td>3</td>\n      <td>3</td>\n      <td>H</td>\n    </tr>\n  </tbody>\n</table>\n</div>"
     },
     "metadata": {},
     "execution_count": 3
    }
   ],
   "source": [
    "data_first_division = data[data.Season >= 1980]\n",
    "data_first_division.head()"
   ]
  },
  {
   "source": [
    "# Remove columns unnecessary "
   ],
   "cell_type": "markdown",
   "metadata": {}
  },
  {
   "cell_type": "code",
   "execution_count": 4,
   "metadata": {},
   "outputs": [
    {
     "output_type": "execute_result",
     "data": {
      "text/plain": [
       "              Date  Season              home            visitor  hgoal  vgoal  \\\n",
       "198487  2020-07-26    2019    Leicester City  Manchester United      0      2   \n",
       "198488  2020-07-26    2019   Manchester City       Norwich City      5      0   \n",
       "198489  2020-07-26    2019  Newcastle United          Liverpool      1      3   \n",
       "198490  2020-07-26    2019       Southampton   Sheffield United      3      1   \n",
       "198491  2020-07-26    2019   West Ham United        Aston Villa      1      1   \n",
       "\n",
       "       result  \n",
       "198487      A  \n",
       "198488      H  \n",
       "198489      A  \n",
       "198490      H  \n",
       "198491      D  "
      ],
      "text/html": "<div>\n<style scoped>\n    .dataframe tbody tr th:only-of-type {\n        vertical-align: middle;\n    }\n\n    .dataframe tbody tr th {\n        vertical-align: top;\n    }\n\n    .dataframe thead th {\n        text-align: right;\n    }\n</style>\n<table border=\"1\" class=\"dataframe\">\n  <thead>\n    <tr style=\"text-align: right;\">\n      <th></th>\n      <th>Date</th>\n      <th>Season</th>\n      <th>home</th>\n      <th>visitor</th>\n      <th>hgoal</th>\n      <th>vgoal</th>\n      <th>result</th>\n    </tr>\n  </thead>\n  <tbody>\n    <tr>\n      <th>198487</th>\n      <td>2020-07-26</td>\n      <td>2019</td>\n      <td>Leicester City</td>\n      <td>Manchester United</td>\n      <td>0</td>\n      <td>2</td>\n      <td>A</td>\n    </tr>\n    <tr>\n      <th>198488</th>\n      <td>2020-07-26</td>\n      <td>2019</td>\n      <td>Manchester City</td>\n      <td>Norwich City</td>\n      <td>5</td>\n      <td>0</td>\n      <td>H</td>\n    </tr>\n    <tr>\n      <th>198489</th>\n      <td>2020-07-26</td>\n      <td>2019</td>\n      <td>Newcastle United</td>\n      <td>Liverpool</td>\n      <td>1</td>\n      <td>3</td>\n      <td>A</td>\n    </tr>\n    <tr>\n      <th>198490</th>\n      <td>2020-07-26</td>\n      <td>2019</td>\n      <td>Southampton</td>\n      <td>Sheffield United</td>\n      <td>3</td>\n      <td>1</td>\n      <td>H</td>\n    </tr>\n    <tr>\n      <th>198491</th>\n      <td>2020-07-26</td>\n      <td>2019</td>\n      <td>West Ham United</td>\n      <td>Aston Villa</td>\n      <td>1</td>\n      <td>1</td>\n      <td>D</td>\n    </tr>\n  </tbody>\n</table>\n</div>"
     },
     "metadata": {},
     "execution_count": 4
    }
   ],
   "source": [
    "data_first_division = data_first_division.drop([\"tier\", \"FT\", \"division\", \"totgoal\", \"goaldif\"], axis = 1)\n",
    "data_first_division.tail()"
   ]
  },
  {
   "source": [
    "# Separate Date"
   ],
   "cell_type": "markdown",
   "metadata": {}
  },
  {
   "cell_type": "code",
   "execution_count": 5,
   "metadata": {},
   "outputs": [
    {
     "output_type": "execute_result",
     "data": {
      "text/plain": [
       "        year month day\n",
       "118802  1980    08  16\n",
       "118803  1980    08  16\n",
       "118804  1980    08  16\n",
       "118805  1980    08  16\n",
       "118806  1980    08  16"
      ],
      "text/html": "<div>\n<style scoped>\n    .dataframe tbody tr th:only-of-type {\n        vertical-align: middle;\n    }\n\n    .dataframe tbody tr th {\n        vertical-align: top;\n    }\n\n    .dataframe thead th {\n        text-align: right;\n    }\n</style>\n<table border=\"1\" class=\"dataframe\">\n  <thead>\n    <tr style=\"text-align: right;\">\n      <th></th>\n      <th>year</th>\n      <th>month</th>\n      <th>day</th>\n    </tr>\n  </thead>\n  <tbody>\n    <tr>\n      <th>118802</th>\n      <td>1980</td>\n      <td>08</td>\n      <td>16</td>\n    </tr>\n    <tr>\n      <th>118803</th>\n      <td>1980</td>\n      <td>08</td>\n      <td>16</td>\n    </tr>\n    <tr>\n      <th>118804</th>\n      <td>1980</td>\n      <td>08</td>\n      <td>16</td>\n    </tr>\n    <tr>\n      <th>118805</th>\n      <td>1980</td>\n      <td>08</td>\n      <td>16</td>\n    </tr>\n    <tr>\n      <th>118806</th>\n      <td>1980</td>\n      <td>08</td>\n      <td>16</td>\n    </tr>\n  </tbody>\n</table>\n</div>"
     },
     "metadata": {},
     "execution_count": 5
    }
   ],
   "source": [
    "date = data_first_division.Date.str.split('-',  n=-1, expand=True)\n",
    "date.columns = [\"year\", \"month\", \"day\"]\n",
    "date.head()"
   ]
  },
  {
   "cell_type": "code",
   "execution_count": 6,
   "metadata": {},
   "outputs": [
    {
     "output_type": "execute_result",
     "data": {
      "text/plain": [
       "        year month day  Season                    home  \\\n",
       "118802  1980    08  16    1980         Birmingham City   \n",
       "118803  1980    08  16    1980  Brighton & Hove Albion   \n",
       "118804  1980    08  16    1980            Leeds United   \n",
       "118805  1980    08  16    1980          Leicester City   \n",
       "118806  1980    08  16    1980               Liverpool   \n",
       "\n",
       "                        visitor  hgoal  vgoal result  \n",
       "118802            Coventry City      3      1      H  \n",
       "118803  Wolverhampton Wanderers      2      0      H  \n",
       "118804              Aston Villa      1      2      A  \n",
       "118805             Ipswich Town      0      1      A  \n",
       "118806           Crystal Palace      3      0      H  "
      ],
      "text/html": "<div>\n<style scoped>\n    .dataframe tbody tr th:only-of-type {\n        vertical-align: middle;\n    }\n\n    .dataframe tbody tr th {\n        vertical-align: top;\n    }\n\n    .dataframe thead th {\n        text-align: right;\n    }\n</style>\n<table border=\"1\" class=\"dataframe\">\n  <thead>\n    <tr style=\"text-align: right;\">\n      <th></th>\n      <th>year</th>\n      <th>month</th>\n      <th>day</th>\n      <th>Season</th>\n      <th>home</th>\n      <th>visitor</th>\n      <th>hgoal</th>\n      <th>vgoal</th>\n      <th>result</th>\n    </tr>\n  </thead>\n  <tbody>\n    <tr>\n      <th>118802</th>\n      <td>1980</td>\n      <td>08</td>\n      <td>16</td>\n      <td>1980</td>\n      <td>Birmingham City</td>\n      <td>Coventry City</td>\n      <td>3</td>\n      <td>1</td>\n      <td>H</td>\n    </tr>\n    <tr>\n      <th>118803</th>\n      <td>1980</td>\n      <td>08</td>\n      <td>16</td>\n      <td>1980</td>\n      <td>Brighton &amp; Hove Albion</td>\n      <td>Wolverhampton Wanderers</td>\n      <td>2</td>\n      <td>0</td>\n      <td>H</td>\n    </tr>\n    <tr>\n      <th>118804</th>\n      <td>1980</td>\n      <td>08</td>\n      <td>16</td>\n      <td>1980</td>\n      <td>Leeds United</td>\n      <td>Aston Villa</td>\n      <td>1</td>\n      <td>2</td>\n      <td>A</td>\n    </tr>\n    <tr>\n      <th>118805</th>\n      <td>1980</td>\n      <td>08</td>\n      <td>16</td>\n      <td>1980</td>\n      <td>Leicester City</td>\n      <td>Ipswich Town</td>\n      <td>0</td>\n      <td>1</td>\n      <td>A</td>\n    </tr>\n    <tr>\n      <th>118806</th>\n      <td>1980</td>\n      <td>08</td>\n      <td>16</td>\n      <td>1980</td>\n      <td>Liverpool</td>\n      <td>Crystal Palace</td>\n      <td>3</td>\n      <td>0</td>\n      <td>H</td>\n    </tr>\n  </tbody>\n</table>\n</div>"
     },
     "metadata": {},
     "execution_count": 6
    }
   ],
   "source": [
    "data_first_division = data_first_division.drop(\"Date\", axis = 1)\n",
    "data_first_division = pd.concat([date, data_first_division], axis=1)\n",
    "data_first_division.head()"
   ]
  },
  {
   "source": [
    "# Create dictionary teams "
   ],
   "cell_type": "markdown",
   "metadata": {}
  },
  {
   "cell_type": "code",
   "execution_count": 7,
   "metadata": {},
   "outputs": [
    {
     "output_type": "execute_result",
     "data": {
      "text/plain": [
       "{'Leicester City': 0,\n",
       " 'Wolverhampton Wanderers': 1,\n",
       " 'Aston Villa': 2,\n",
       " 'Huddersfield Town': 3,\n",
       " 'Swindon Town': 4,\n",
       " 'Crystal Palace': 5,\n",
       " 'Portsmouth': 6,\n",
       " 'Ipswich Town': 7,\n",
       " 'Stoke City': 8,\n",
       " 'Everton': 9,\n",
       " 'Sunderland': 10,\n",
       " 'Cardiff City': 11,\n",
       " 'Fulham': 12,\n",
       " 'Sheffield United': 13,\n",
       " 'Wigan Athletic': 14,\n",
       " 'Blackburn Rovers': 15,\n",
       " 'Arsenal': 16,\n",
       " 'Oldham Athletic': 17,\n",
       " 'Reading': 18,\n",
       " 'Burnley': 19,\n",
       " 'Sheffield Wednesday': 20,\n",
       " 'Luton Town': 21,\n",
       " 'Middlesbrough': 22,\n",
       " 'Watford': 23,\n",
       " 'Tottenham Hotspur': 24,\n",
       " 'Norwich City': 25,\n",
       " 'Bolton Wanderers': 26,\n",
       " 'Birmingham City': 27,\n",
       " 'Liverpool': 28,\n",
       " 'Manchester United': 29,\n",
       " 'Nottingham Forest': 30,\n",
       " 'Queens Park Rangers': 31,\n",
       " 'AFC Bournemouth': 32,\n",
       " 'Manchester City': 33,\n",
       " 'Oxford United': 34,\n",
       " 'Notts County': 35,\n",
       " 'Newcastle United': 36,\n",
       " 'Hull City': 37,\n",
       " 'Blackpool': 38,\n",
       " 'Derby County': 39,\n",
       " 'Wimbledon': 40,\n",
       " 'Bradford City': 41,\n",
       " 'Brighton & Hove Albion': 42,\n",
       " 'Swansea City': 43,\n",
       " 'West Bromwich Albion': 44,\n",
       " 'Coventry City': 45,\n",
       " 'Leeds United': 46,\n",
       " 'Chelsea': 47,\n",
       " 'Barnsley': 48,\n",
       " 'Millwall': 49,\n",
       " 'West Ham United': 50,\n",
       " 'Charlton Athletic': 51,\n",
       " 'Southampton': 52}"
      ]
     },
     "metadata": {},
     "execution_count": 7
    }
   ],
   "source": [
    "teams_set = set(data_first_division.home).union(set(data_first_division.visitor))\n",
    "team_number = range(len(teams_set))\n",
    "teams_dict = dict(zip(teams_set, team_number))\n",
    "teams_dict"
   ]
  },
  {
   "cell_type": "code",
   "execution_count": 8,
   "metadata": {},
   "outputs": [
    {
     "output_type": "execute_result",
     "data": {
      "text/plain": [
       "                 team_name  team_number\n",
       "0           Leicester City            0\n",
       "1  Wolverhampton Wanderers            1\n",
       "2              Aston Villa            2\n",
       "3        Huddersfield Town            3\n",
       "4             Swindon Town            4"
      ],
      "text/html": "<div>\n<style scoped>\n    .dataframe tbody tr th:only-of-type {\n        vertical-align: middle;\n    }\n\n    .dataframe tbody tr th {\n        vertical-align: top;\n    }\n\n    .dataframe thead th {\n        text-align: right;\n    }\n</style>\n<table border=\"1\" class=\"dataframe\">\n  <thead>\n    <tr style=\"text-align: right;\">\n      <th></th>\n      <th>team_name</th>\n      <th>team_number</th>\n    </tr>\n  </thead>\n  <tbody>\n    <tr>\n      <th>0</th>\n      <td>Leicester City</td>\n      <td>0</td>\n    </tr>\n    <tr>\n      <th>1</th>\n      <td>Wolverhampton Wanderers</td>\n      <td>1</td>\n    </tr>\n    <tr>\n      <th>2</th>\n      <td>Aston Villa</td>\n      <td>2</td>\n    </tr>\n    <tr>\n      <th>3</th>\n      <td>Huddersfield Town</td>\n      <td>3</td>\n    </tr>\n    <tr>\n      <th>4</th>\n      <td>Swindon Town</td>\n      <td>4</td>\n    </tr>\n  </tbody>\n</table>\n</div>"
     },
     "metadata": {},
     "execution_count": 8
    }
   ],
   "source": [
    "teams_df = pd.DataFrame({\"team_name\":list(teams_set), \"team_number\":team_number})\n",
    "teams_df.head()"
   ]
  },
  {
   "cell_type": "code",
   "execution_count": 9,
   "metadata": {},
   "outputs": [],
   "source": [
    "teams_df.to_csv(\"../data/teams.csv\", index=False)"
   ]
  },
  {
   "cell_type": "code",
   "execution_count": 10,
   "metadata": {},
   "outputs": [
    {
     "output_type": "execute_result",
     "data": {
      "text/plain": [
       "        year month day  Season  home  visitor  hgoal  vgoal result\n",
       "118802  1980    08  16    1980    27       45      3      1      H\n",
       "118803  1980    08  16    1980    42        1      2      0      H\n",
       "118804  1980    08  16    1980    46        2      1      2      A\n",
       "118805  1980    08  16    1980     0        7      0      1      A\n",
       "118806  1980    08  16    1980    28        5      3      0      H"
      ],
      "text/html": "<div>\n<style scoped>\n    .dataframe tbody tr th:only-of-type {\n        vertical-align: middle;\n    }\n\n    .dataframe tbody tr th {\n        vertical-align: top;\n    }\n\n    .dataframe thead th {\n        text-align: right;\n    }\n</style>\n<table border=\"1\" class=\"dataframe\">\n  <thead>\n    <tr style=\"text-align: right;\">\n      <th></th>\n      <th>year</th>\n      <th>month</th>\n      <th>day</th>\n      <th>Season</th>\n      <th>home</th>\n      <th>visitor</th>\n      <th>hgoal</th>\n      <th>vgoal</th>\n      <th>result</th>\n    </tr>\n  </thead>\n  <tbody>\n    <tr>\n      <th>118802</th>\n      <td>1980</td>\n      <td>08</td>\n      <td>16</td>\n      <td>1980</td>\n      <td>27</td>\n      <td>45</td>\n      <td>3</td>\n      <td>1</td>\n      <td>H</td>\n    </tr>\n    <tr>\n      <th>118803</th>\n      <td>1980</td>\n      <td>08</td>\n      <td>16</td>\n      <td>1980</td>\n      <td>42</td>\n      <td>1</td>\n      <td>2</td>\n      <td>0</td>\n      <td>H</td>\n    </tr>\n    <tr>\n      <th>118804</th>\n      <td>1980</td>\n      <td>08</td>\n      <td>16</td>\n      <td>1980</td>\n      <td>46</td>\n      <td>2</td>\n      <td>1</td>\n      <td>2</td>\n      <td>A</td>\n    </tr>\n    <tr>\n      <th>118805</th>\n      <td>1980</td>\n      <td>08</td>\n      <td>16</td>\n      <td>1980</td>\n      <td>0</td>\n      <td>7</td>\n      <td>0</td>\n      <td>1</td>\n      <td>A</td>\n    </tr>\n    <tr>\n      <th>118806</th>\n      <td>1980</td>\n      <td>08</td>\n      <td>16</td>\n      <td>1980</td>\n      <td>28</td>\n      <td>5</td>\n      <td>3</td>\n      <td>0</td>\n      <td>H</td>\n    </tr>\n  </tbody>\n</table>\n</div>"
     },
     "metadata": {},
     "execution_count": 10
    }
   ],
   "source": [
    "data_first_division.home = data_first_division.home.apply(teams_dict.get)\n",
    "data_first_division.visitor = data_first_division.visitor.apply(teams_dict.get)\n",
    "data_first_division.head()"
   ]
  },
  {
   "source": [
    "# Modify Result"
   ],
   "cell_type": "markdown",
   "metadata": {}
  },
  {
   "cell_type": "code",
   "execution_count": 11,
   "metadata": {},
   "outputs": [
    {
     "output_type": "execute_result",
     "data": {
      "text/plain": [
       "        year month day  season  home  visitor  hgoal  vgoal  result\n",
       "118802  1980    08  16    1980    27       45      3      1       2\n",
       "118803  1980    08  16    1980    42        1      2      0       2\n",
       "118804  1980    08  16    1980    46        2      1      2       3\n",
       "118805  1980    08  16    1980     0        7      0      1       3\n",
       "118806  1980    08  16    1980    28        5      3      0       2"
      ],
      "text/html": "<div>\n<style scoped>\n    .dataframe tbody tr th:only-of-type {\n        vertical-align: middle;\n    }\n\n    .dataframe tbody tr th {\n        vertical-align: top;\n    }\n\n    .dataframe thead th {\n        text-align: right;\n    }\n</style>\n<table border=\"1\" class=\"dataframe\">\n  <thead>\n    <tr style=\"text-align: right;\">\n      <th></th>\n      <th>year</th>\n      <th>month</th>\n      <th>day</th>\n      <th>season</th>\n      <th>home</th>\n      <th>visitor</th>\n      <th>hgoal</th>\n      <th>vgoal</th>\n      <th>result</th>\n    </tr>\n  </thead>\n  <tbody>\n    <tr>\n      <th>118802</th>\n      <td>1980</td>\n      <td>08</td>\n      <td>16</td>\n      <td>1980</td>\n      <td>27</td>\n      <td>45</td>\n      <td>3</td>\n      <td>1</td>\n      <td>2</td>\n    </tr>\n    <tr>\n      <th>118803</th>\n      <td>1980</td>\n      <td>08</td>\n      <td>16</td>\n      <td>1980</td>\n      <td>42</td>\n      <td>1</td>\n      <td>2</td>\n      <td>0</td>\n      <td>2</td>\n    </tr>\n    <tr>\n      <th>118804</th>\n      <td>1980</td>\n      <td>08</td>\n      <td>16</td>\n      <td>1980</td>\n      <td>46</td>\n      <td>2</td>\n      <td>1</td>\n      <td>2</td>\n      <td>3</td>\n    </tr>\n    <tr>\n      <th>118805</th>\n      <td>1980</td>\n      <td>08</td>\n      <td>16</td>\n      <td>1980</td>\n      <td>0</td>\n      <td>7</td>\n      <td>0</td>\n      <td>1</td>\n      <td>3</td>\n    </tr>\n    <tr>\n      <th>118806</th>\n      <td>1980</td>\n      <td>08</td>\n      <td>16</td>\n      <td>1980</td>\n      <td>28</td>\n      <td>5</td>\n      <td>3</td>\n      <td>0</td>\n      <td>2</td>\n    </tr>\n  </tbody>\n</table>\n</div>"
     },
     "metadata": {},
     "execution_count": 11
    }
   ],
   "source": [
    "result_dict = {\"D\":1, \"H\":2, \"A\":3}\n",
    "data_first_division.result = data_first_division.result.apply(result_dict.get)\n",
    "data_first_division = data_first_division.rename(columns={'Season':'season'})\n",
    "data_first_division.head()"
   ]
  },
  {
   "source": [
    "# Add week"
   ],
   "cell_type": "markdown",
   "metadata": {}
  },
  {
   "cell_type": "code",
   "execution_count": 12,
   "metadata": {},
   "outputs": [
    {
     "output_type": "execute_result",
     "data": {
      "text/plain": [
       "                season  home  visitor  hgoal  vgoal  result\n",
       "year month day                                             \n",
       "2018 01    01        5     5        5      5      5       5\n",
       "           02        4     4        4      4      4       4\n",
       "           03        1     1        1      1      1       1\n",
       "           04        1     1        1      1      1       1\n",
       "           13        7     7        7      7      7       7\n",
       "...                ...   ...      ...    ...    ...     ...\n",
       "2019 12    22        2     2        2      2      2       2\n",
       "           26        9     9        9      9      9       9\n",
       "           27        1     1        1      1      1       1\n",
       "           28        7     7        7      7      7       7\n",
       "           29        3     3        3      3      3       3\n",
       "\n",
       "[212 rows x 6 columns]"
      ],
      "text/html": "<div>\n<style scoped>\n    .dataframe tbody tr th:only-of-type {\n        vertical-align: middle;\n    }\n\n    .dataframe tbody tr th {\n        vertical-align: top;\n    }\n\n    .dataframe thead th {\n        text-align: right;\n    }\n</style>\n<table border=\"1\" class=\"dataframe\">\n  <thead>\n    <tr style=\"text-align: right;\">\n      <th></th>\n      <th></th>\n      <th></th>\n      <th>season</th>\n      <th>home</th>\n      <th>visitor</th>\n      <th>hgoal</th>\n      <th>vgoal</th>\n      <th>result</th>\n    </tr>\n    <tr>\n      <th>year</th>\n      <th>month</th>\n      <th>day</th>\n      <th></th>\n      <th></th>\n      <th></th>\n      <th></th>\n      <th></th>\n      <th></th>\n    </tr>\n  </thead>\n  <tbody>\n    <tr>\n      <th rowspan=\"5\" valign=\"top\">2018</th>\n      <th rowspan=\"5\" valign=\"top\">01</th>\n      <th>01</th>\n      <td>5</td>\n      <td>5</td>\n      <td>5</td>\n      <td>5</td>\n      <td>5</td>\n      <td>5</td>\n    </tr>\n    <tr>\n      <th>02</th>\n      <td>4</td>\n      <td>4</td>\n      <td>4</td>\n      <td>4</td>\n      <td>4</td>\n      <td>4</td>\n    </tr>\n    <tr>\n      <th>03</th>\n      <td>1</td>\n      <td>1</td>\n      <td>1</td>\n      <td>1</td>\n      <td>1</td>\n      <td>1</td>\n    </tr>\n    <tr>\n      <th>04</th>\n      <td>1</td>\n      <td>1</td>\n      <td>1</td>\n      <td>1</td>\n      <td>1</td>\n      <td>1</td>\n    </tr>\n    <tr>\n      <th>13</th>\n      <td>7</td>\n      <td>7</td>\n      <td>7</td>\n      <td>7</td>\n      <td>7</td>\n      <td>7</td>\n    </tr>\n    <tr>\n      <th>...</th>\n      <th>...</th>\n      <th>...</th>\n      <td>...</td>\n      <td>...</td>\n      <td>...</td>\n      <td>...</td>\n      <td>...</td>\n      <td>...</td>\n    </tr>\n    <tr>\n      <th rowspan=\"5\" valign=\"top\">2019</th>\n      <th rowspan=\"5\" valign=\"top\">12</th>\n      <th>22</th>\n      <td>2</td>\n      <td>2</td>\n      <td>2</td>\n      <td>2</td>\n      <td>2</td>\n      <td>2</td>\n    </tr>\n    <tr>\n      <th>26</th>\n      <td>9</td>\n      <td>9</td>\n      <td>9</td>\n      <td>9</td>\n      <td>9</td>\n      <td>9</td>\n    </tr>\n    <tr>\n      <th>27</th>\n      <td>1</td>\n      <td>1</td>\n      <td>1</td>\n      <td>1</td>\n      <td>1</td>\n      <td>1</td>\n    </tr>\n    <tr>\n      <th>28</th>\n      <td>7</td>\n      <td>7</td>\n      <td>7</td>\n      <td>7</td>\n      <td>7</td>\n      <td>7</td>\n    </tr>\n    <tr>\n      <th>29</th>\n      <td>3</td>\n      <td>3</td>\n      <td>3</td>\n      <td>3</td>\n      <td>3</td>\n      <td>3</td>\n    </tr>\n  </tbody>\n</table>\n<p>212 rows × 6 columns</p>\n</div>"
     },
     "metadata": {},
     "execution_count": 12
    }
   ],
   "source": [
    "temp = data_first_division[(data_first_division.year == \"2018\") | (data_first_division.year == \"2019\")]\n",
    "temp.groupby(by=[\"year\", \"month\", \"day\"]).count()"
   ]
  },
  {
   "cell_type": "code",
   "execution_count": 13,
   "metadata": {},
   "outputs": [],
   "source": [
    "con = [(1995, 2020, 38), (1991, 1995, 42), (1988, 1991, 38), (1987, 1988, 40), (1980, 1987, 42)]\n",
    "s = dict()\n",
    "for a, b, jornada in con:\n",
    "    for i in range(a, b):\n",
    "        s[i] = jornada\n",
    "# s: season => num jornadas en la season"
   ]
  },
  {
   "cell_type": "code",
   "execution_count": 14,
   "metadata": {},
   "outputs": [
    {
     "output_type": "execute_result",
     "data": {
      "text/plain": [
       "       year month day  season  home  visitor  hgoal  vgoal  result\n",
       "16137  2020    07  26    2019     0       29      0      2       3\n",
       "16138  2020    07  26    2019    33       25      5      0       2\n",
       "16139  2020    07  26    2019    36       28      1      3       3\n",
       "16140  2020    07  26    2019    52       13      3      1       2\n",
       "16141  2020    07  26    2019    50        2      1      1       1"
      ],
      "text/html": "<div>\n<style scoped>\n    .dataframe tbody tr th:only-of-type {\n        vertical-align: middle;\n    }\n\n    .dataframe tbody tr th {\n        vertical-align: top;\n    }\n\n    .dataframe thead th {\n        text-align: right;\n    }\n</style>\n<table border=\"1\" class=\"dataframe\">\n  <thead>\n    <tr style=\"text-align: right;\">\n      <th></th>\n      <th>year</th>\n      <th>month</th>\n      <th>day</th>\n      <th>season</th>\n      <th>home</th>\n      <th>visitor</th>\n      <th>hgoal</th>\n      <th>vgoal</th>\n      <th>result</th>\n    </tr>\n  </thead>\n  <tbody>\n    <tr>\n      <th>16137</th>\n      <td>2020</td>\n      <td>07</td>\n      <td>26</td>\n      <td>2019</td>\n      <td>0</td>\n      <td>29</td>\n      <td>0</td>\n      <td>2</td>\n      <td>3</td>\n    </tr>\n    <tr>\n      <th>16138</th>\n      <td>2020</td>\n      <td>07</td>\n      <td>26</td>\n      <td>2019</td>\n      <td>33</td>\n      <td>25</td>\n      <td>5</td>\n      <td>0</td>\n      <td>2</td>\n    </tr>\n    <tr>\n      <th>16139</th>\n      <td>2020</td>\n      <td>07</td>\n      <td>26</td>\n      <td>2019</td>\n      <td>36</td>\n      <td>28</td>\n      <td>1</td>\n      <td>3</td>\n      <td>3</td>\n    </tr>\n    <tr>\n      <th>16140</th>\n      <td>2020</td>\n      <td>07</td>\n      <td>26</td>\n      <td>2019</td>\n      <td>52</td>\n      <td>13</td>\n      <td>3</td>\n      <td>1</td>\n      <td>2</td>\n    </tr>\n    <tr>\n      <th>16141</th>\n      <td>2020</td>\n      <td>07</td>\n      <td>26</td>\n      <td>2019</td>\n      <td>50</td>\n      <td>2</td>\n      <td>1</td>\n      <td>1</td>\n      <td>1</td>\n    </tr>\n  </tbody>\n</table>\n</div>"
     },
     "metadata": {},
     "execution_count": 14
    }
   ],
   "source": [
    "data_first_division = data_first_division.reset_index()\n",
    "data_first_division = data_first_division.drop(\"index\", axis = 1)\n",
    "data_first_division.tail()"
   ]
  },
  {
   "cell_type": "code",
   "execution_count": 15,
   "metadata": {
    "tags": []
   },
   "outputs": [
    {
     "output_type": "execute_result",
     "data": {
      "text/plain": [
       "       year month day  season  home  visitor  hgoal  vgoal  result  week_day\n",
       "16137  2020    07  26    2019     0       29      0      2       3        38\n",
       "16138  2020    07  26    2019    33       25      5      0       2        38\n",
       "16139  2020    07  26    2019    36       28      1      3       3        38\n",
       "16140  2020    07  26    2019    52       13      3      1       2        38\n",
       "16141  2020    07  26    2019    50        2      1      1       1        38"
      ],
      "text/html": "<div>\n<style scoped>\n    .dataframe tbody tr th:only-of-type {\n        vertical-align: middle;\n    }\n\n    .dataframe tbody tr th {\n        vertical-align: top;\n    }\n\n    .dataframe thead th {\n        text-align: right;\n    }\n</style>\n<table border=\"1\" class=\"dataframe\">\n  <thead>\n    <tr style=\"text-align: right;\">\n      <th></th>\n      <th>year</th>\n      <th>month</th>\n      <th>day</th>\n      <th>season</th>\n      <th>home</th>\n      <th>visitor</th>\n      <th>hgoal</th>\n      <th>vgoal</th>\n      <th>result</th>\n      <th>week_day</th>\n    </tr>\n  </thead>\n  <tbody>\n    <tr>\n      <th>16137</th>\n      <td>2020</td>\n      <td>07</td>\n      <td>26</td>\n      <td>2019</td>\n      <td>0</td>\n      <td>29</td>\n      <td>0</td>\n      <td>2</td>\n      <td>3</td>\n      <td>38</td>\n    </tr>\n    <tr>\n      <th>16138</th>\n      <td>2020</td>\n      <td>07</td>\n      <td>26</td>\n      <td>2019</td>\n      <td>33</td>\n      <td>25</td>\n      <td>5</td>\n      <td>0</td>\n      <td>2</td>\n      <td>38</td>\n    </tr>\n    <tr>\n      <th>16139</th>\n      <td>2020</td>\n      <td>07</td>\n      <td>26</td>\n      <td>2019</td>\n      <td>36</td>\n      <td>28</td>\n      <td>1</td>\n      <td>3</td>\n      <td>3</td>\n      <td>38</td>\n    </tr>\n    <tr>\n      <th>16140</th>\n      <td>2020</td>\n      <td>07</td>\n      <td>26</td>\n      <td>2019</td>\n      <td>52</td>\n      <td>13</td>\n      <td>3</td>\n      <td>1</td>\n      <td>2</td>\n      <td>38</td>\n    </tr>\n    <tr>\n      <th>16141</th>\n      <td>2020</td>\n      <td>07</td>\n      <td>26</td>\n      <td>2019</td>\n      <td>50</td>\n      <td>2</td>\n      <td>1</td>\n      <td>1</td>\n      <td>1</td>\n      <td>38</td>\n    </tr>\n  </tbody>\n</table>\n</div>"
     },
     "metadata": {},
     "execution_count": 15
    }
   ],
   "source": [
    "\n",
    "temp = data_first_division.copy()\n",
    "temp[\"week_day\"] = np.zeros(len(temp))\n",
    "for season in data_first_division.season.unique():\n",
    "    data_season = data_first_division[data_first_division.season == season]\n",
    "    equipos = data_season.home.unique()\n",
    "    conteo = dict(zip(equipos, [0] * len(equipos)))   \n",
    "    for index, row in data_season.iterrows():\n",
    "        conteo[row.home] += 1\n",
    "        conteo[row.visitor] += 1\n",
    "        temp.iloc[index, -1] = conteo[row.home]\n",
    "\n",
    "temp = temp.astype({\"week_day\":int})\n",
    "temp.tail()"
   ]
  },
  {
   "cell_type": "code",
   "execution_count": 16,
   "metadata": {},
   "outputs": [],
   "source": [
    "data_first_division = temp"
   ]
  },
  {
   "cell_type": "code",
   "execution_count": 19,
   "metadata": {},
   "outputs": [
    {
     "output_type": "execute_result",
     "data": {
      "text/plain": [
       "   year month day  season  home  visitor  hgoal  vgoal  result  week_day\n",
       "0  1980    08  16    1980    27       45      3      1       2         1\n",
       "1  1980    08  16    1980    42        1      2      0       2         1\n",
       "2  1980    08  16    1980    46        2      1      2       3         1\n",
       "3  1980    08  16    1980     0        7      0      1       3         1\n",
       "4  1980    08  16    1980    28        5      3      0       2         1"
      ],
      "text/html": "<div>\n<style scoped>\n    .dataframe tbody tr th:only-of-type {\n        vertical-align: middle;\n    }\n\n    .dataframe tbody tr th {\n        vertical-align: top;\n    }\n\n    .dataframe thead th {\n        text-align: right;\n    }\n</style>\n<table border=\"1\" class=\"dataframe\">\n  <thead>\n    <tr style=\"text-align: right;\">\n      <th></th>\n      <th>year</th>\n      <th>month</th>\n      <th>day</th>\n      <th>season</th>\n      <th>home</th>\n      <th>visitor</th>\n      <th>hgoal</th>\n      <th>vgoal</th>\n      <th>result</th>\n      <th>week_day</th>\n    </tr>\n  </thead>\n  <tbody>\n    <tr>\n      <th>0</th>\n      <td>1980</td>\n      <td>08</td>\n      <td>16</td>\n      <td>1980</td>\n      <td>27</td>\n      <td>45</td>\n      <td>3</td>\n      <td>1</td>\n      <td>2</td>\n      <td>1</td>\n    </tr>\n    <tr>\n      <th>1</th>\n      <td>1980</td>\n      <td>08</td>\n      <td>16</td>\n      <td>1980</td>\n      <td>42</td>\n      <td>1</td>\n      <td>2</td>\n      <td>0</td>\n      <td>2</td>\n      <td>1</td>\n    </tr>\n    <tr>\n      <th>2</th>\n      <td>1980</td>\n      <td>08</td>\n      <td>16</td>\n      <td>1980</td>\n      <td>46</td>\n      <td>2</td>\n      <td>1</td>\n      <td>2</td>\n      <td>3</td>\n      <td>1</td>\n    </tr>\n    <tr>\n      <th>3</th>\n      <td>1980</td>\n      <td>08</td>\n      <td>16</td>\n      <td>1980</td>\n      <td>0</td>\n      <td>7</td>\n      <td>0</td>\n      <td>1</td>\n      <td>3</td>\n      <td>1</td>\n    </tr>\n    <tr>\n      <th>4</th>\n      <td>1980</td>\n      <td>08</td>\n      <td>16</td>\n      <td>1980</td>\n      <td>28</td>\n      <td>5</td>\n      <td>3</td>\n      <td>0</td>\n      <td>2</td>\n      <td>1</td>\n    </tr>\n  </tbody>\n</table>\n</div>"
     },
     "metadata": {},
     "execution_count": 19
    }
   ],
   "source": [
    "data_first_division.head()"
   ]
  },
  {
   "source": [
    "# Save CSV"
   ],
   "cell_type": "markdown",
   "metadata": {}
  },
  {
   "cell_type": "code",
   "execution_count": 17,
   "metadata": {},
   "outputs": [],
   "source": [
    "data_first_division.to_csv(\"../data/england-clean.csv\", index = 0)"
   ]
  },
  {
   "cell_type": "code",
   "execution_count": null,
   "metadata": {},
   "outputs": [],
   "source": []
  }
 ]
}