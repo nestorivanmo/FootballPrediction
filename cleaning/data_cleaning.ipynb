{
 "metadata": {
  "language_info": {
   "codemirror_mode": {
    "name": "ipython",
    "version": 3
   },
   "file_extension": ".py",
   "mimetype": "text/x-python",
   "name": "python",
   "nbconvert_exporter": "python",
   "pygments_lexer": "ipython3",
   "version": "3.8.3-final"
  },
  "orig_nbformat": 2,
  "kernelspec": {
   "name": "python3",
   "display_name": "Python 3",
   "language": "python"
  }
 },
 "nbformat": 4,
 "nbformat_minor": 2,
 "cells": [
  {
   "cell_type": "code",
   "execution_count": 101,
   "metadata": {},
   "outputs": [],
   "source": [
    "import pandas as pd\n",
    "import numpy as np"
   ]
  },
  {
   "cell_type": "code",
   "execution_count": 102,
   "metadata": {},
   "outputs": [
    {
     "output_type": "execute_result",
     "data": {
      "text/plain": [
       "         Date  Season                     home               visitor   FT  \\\n",
       "0  1888-09-08    1888         Bolton Wanderers          Derby County  3-6   \n",
       "1  1888-09-08    1888                  Everton       Accrington F.C.  2-1   \n",
       "2  1888-09-08    1888        Preston North End               Burnley  5-2   \n",
       "3  1888-09-08    1888               Stoke City  West Bromwich Albion  0-2   \n",
       "4  1888-09-08    1888  Wolverhampton Wanderers           Aston Villa  1-1   \n",
       "\n",
       "   hgoal  vgoal  division  tier  totgoal  goaldif result  \n",
       "0      3      6         1     1        9       -3      A  \n",
       "1      2      1         1     1        3        1      H  \n",
       "2      5      2         1     1        7        3      H  \n",
       "3      0      2         1     1        2       -2      A  \n",
       "4      1      1         1     1        2        0      D  "
      ],
      "text/html": "<div>\n<style scoped>\n    .dataframe tbody tr th:only-of-type {\n        vertical-align: middle;\n    }\n\n    .dataframe tbody tr th {\n        vertical-align: top;\n    }\n\n    .dataframe thead th {\n        text-align: right;\n    }\n</style>\n<table border=\"1\" class=\"dataframe\">\n  <thead>\n    <tr style=\"text-align: right;\">\n      <th></th>\n      <th>Date</th>\n      <th>Season</th>\n      <th>home</th>\n      <th>visitor</th>\n      <th>FT</th>\n      <th>hgoal</th>\n      <th>vgoal</th>\n      <th>division</th>\n      <th>tier</th>\n      <th>totgoal</th>\n      <th>goaldif</th>\n      <th>result</th>\n    </tr>\n  </thead>\n  <tbody>\n    <tr>\n      <th>0</th>\n      <td>1888-09-08</td>\n      <td>1888</td>\n      <td>Bolton Wanderers</td>\n      <td>Derby County</td>\n      <td>3-6</td>\n      <td>3</td>\n      <td>6</td>\n      <td>1</td>\n      <td>1</td>\n      <td>9</td>\n      <td>-3</td>\n      <td>A</td>\n    </tr>\n    <tr>\n      <th>1</th>\n      <td>1888-09-08</td>\n      <td>1888</td>\n      <td>Everton</td>\n      <td>Accrington F.C.</td>\n      <td>2-1</td>\n      <td>2</td>\n      <td>1</td>\n      <td>1</td>\n      <td>1</td>\n      <td>3</td>\n      <td>1</td>\n      <td>H</td>\n    </tr>\n    <tr>\n      <th>2</th>\n      <td>1888-09-08</td>\n      <td>1888</td>\n      <td>Preston North End</td>\n      <td>Burnley</td>\n      <td>5-2</td>\n      <td>5</td>\n      <td>2</td>\n      <td>1</td>\n      <td>1</td>\n      <td>7</td>\n      <td>3</td>\n      <td>H</td>\n    </tr>\n    <tr>\n      <th>3</th>\n      <td>1888-09-08</td>\n      <td>1888</td>\n      <td>Stoke City</td>\n      <td>West Bromwich Albion</td>\n      <td>0-2</td>\n      <td>0</td>\n      <td>2</td>\n      <td>1</td>\n      <td>1</td>\n      <td>2</td>\n      <td>-2</td>\n      <td>A</td>\n    </tr>\n    <tr>\n      <th>4</th>\n      <td>1888-09-08</td>\n      <td>1888</td>\n      <td>Wolverhampton Wanderers</td>\n      <td>Aston Villa</td>\n      <td>1-1</td>\n      <td>1</td>\n      <td>1</td>\n      <td>1</td>\n      <td>1</td>\n      <td>2</td>\n      <td>0</td>\n      <td>D</td>\n    </tr>\n  </tbody>\n</table>\n</div>"
     },
     "metadata": {},
     "execution_count": 102
    }
   ],
   "source": [
    "data = pd.read_csv(\"england.csv\")\n",
    "data = data[(data.division != '3S')]\n",
    "data = data[(data.division != '3N')]\n",
    "data = data.astype({'division':int})\n",
    "data = data[data.division == 1]\n",
    "data.head()"
   ]
  },
  {
   "source": [
    "# Obtain First Division from season 1980 "
   ],
   "cell_type": "markdown",
   "metadata": {}
  },
  {
   "cell_type": "code",
   "execution_count": 104,
   "metadata": {},
   "outputs": [
    {
     "output_type": "execute_result",
     "data": {
      "text/plain": [
       "              Date  Season                    home                  visitor  \\\n",
       "118802  1980-08-16    1980         Birmingham City            Coventry City   \n",
       "118803  1980-08-16    1980  Brighton & Hove Albion  Wolverhampton Wanderers   \n",
       "118804  1980-08-16    1980            Leeds United              Aston Villa   \n",
       "118805  1980-08-16    1980          Leicester City             Ipswich Town   \n",
       "118806  1980-08-16    1980               Liverpool           Crystal Palace   \n",
       "\n",
       "         FT  hgoal  vgoal  division  tier  totgoal  goaldif result  \n",
       "118802  3-1      3      1         1     1        4        2      H  \n",
       "118803  2-0      2      0         1     1        2        2      H  \n",
       "118804  1-2      1      2         1     1        3       -1      A  \n",
       "118805  0-1      0      1         1     1        1       -1      A  \n",
       "118806  3-0      3      0         1     1        3        3      H  "
      ],
      "text/html": "<div>\n<style scoped>\n    .dataframe tbody tr th:only-of-type {\n        vertical-align: middle;\n    }\n\n    .dataframe tbody tr th {\n        vertical-align: top;\n    }\n\n    .dataframe thead th {\n        text-align: right;\n    }\n</style>\n<table border=\"1\" class=\"dataframe\">\n  <thead>\n    <tr style=\"text-align: right;\">\n      <th></th>\n      <th>Date</th>\n      <th>Season</th>\n      <th>home</th>\n      <th>visitor</th>\n      <th>FT</th>\n      <th>hgoal</th>\n      <th>vgoal</th>\n      <th>division</th>\n      <th>tier</th>\n      <th>totgoal</th>\n      <th>goaldif</th>\n      <th>result</th>\n    </tr>\n  </thead>\n  <tbody>\n    <tr>\n      <th>118802</th>\n      <td>1980-08-16</td>\n      <td>1980</td>\n      <td>Birmingham City</td>\n      <td>Coventry City</td>\n      <td>3-1</td>\n      <td>3</td>\n      <td>1</td>\n      <td>1</td>\n      <td>1</td>\n      <td>4</td>\n      <td>2</td>\n      <td>H</td>\n    </tr>\n    <tr>\n      <th>118803</th>\n      <td>1980-08-16</td>\n      <td>1980</td>\n      <td>Brighton &amp; Hove Albion</td>\n      <td>Wolverhampton Wanderers</td>\n      <td>2-0</td>\n      <td>2</td>\n      <td>0</td>\n      <td>1</td>\n      <td>1</td>\n      <td>2</td>\n      <td>2</td>\n      <td>H</td>\n    </tr>\n    <tr>\n      <th>118804</th>\n      <td>1980-08-16</td>\n      <td>1980</td>\n      <td>Leeds United</td>\n      <td>Aston Villa</td>\n      <td>1-2</td>\n      <td>1</td>\n      <td>2</td>\n      <td>1</td>\n      <td>1</td>\n      <td>3</td>\n      <td>-1</td>\n      <td>A</td>\n    </tr>\n    <tr>\n      <th>118805</th>\n      <td>1980-08-16</td>\n      <td>1980</td>\n      <td>Leicester City</td>\n      <td>Ipswich Town</td>\n      <td>0-1</td>\n      <td>0</td>\n      <td>1</td>\n      <td>1</td>\n      <td>1</td>\n      <td>1</td>\n      <td>-1</td>\n      <td>A</td>\n    </tr>\n    <tr>\n      <th>118806</th>\n      <td>1980-08-16</td>\n      <td>1980</td>\n      <td>Liverpool</td>\n      <td>Crystal Palace</td>\n      <td>3-0</td>\n      <td>3</td>\n      <td>0</td>\n      <td>1</td>\n      <td>1</td>\n      <td>3</td>\n      <td>3</td>\n      <td>H</td>\n    </tr>\n  </tbody>\n</table>\n</div>"
     },
     "metadata": {},
     "execution_count": 104
    }
   ],
   "source": [
    "data_first_division = data[data.Season >= 1980]\n",
    "data_first_division.head()"
   ]
  },
  {
   "source": [
    "# Remove columns unnecessary "
   ],
   "cell_type": "markdown",
   "metadata": {}
  },
  {
   "cell_type": "code",
   "execution_count": 105,
   "metadata": {},
   "outputs": [
    {
     "output_type": "execute_result",
     "data": {
      "text/plain": [
       "              Date  Season              home            visitor  hgoal  vgoal  \\\n",
       "198487  2020-07-26    2019    Leicester City  Manchester United      0      2   \n",
       "198488  2020-07-26    2019   Manchester City       Norwich City      5      0   \n",
       "198489  2020-07-26    2019  Newcastle United          Liverpool      1      3   \n",
       "198490  2020-07-26    2019       Southampton   Sheffield United      3      1   \n",
       "198491  2020-07-26    2019   West Ham United        Aston Villa      1      1   \n",
       "\n",
       "       result  \n",
       "198487      A  \n",
       "198488      H  \n",
       "198489      A  \n",
       "198490      H  \n",
       "198491      D  "
      ],
      "text/html": "<div>\n<style scoped>\n    .dataframe tbody tr th:only-of-type {\n        vertical-align: middle;\n    }\n\n    .dataframe tbody tr th {\n        vertical-align: top;\n    }\n\n    .dataframe thead th {\n        text-align: right;\n    }\n</style>\n<table border=\"1\" class=\"dataframe\">\n  <thead>\n    <tr style=\"text-align: right;\">\n      <th></th>\n      <th>Date</th>\n      <th>Season</th>\n      <th>home</th>\n      <th>visitor</th>\n      <th>hgoal</th>\n      <th>vgoal</th>\n      <th>result</th>\n    </tr>\n  </thead>\n  <tbody>\n    <tr>\n      <th>198487</th>\n      <td>2020-07-26</td>\n      <td>2019</td>\n      <td>Leicester City</td>\n      <td>Manchester United</td>\n      <td>0</td>\n      <td>2</td>\n      <td>A</td>\n    </tr>\n    <tr>\n      <th>198488</th>\n      <td>2020-07-26</td>\n      <td>2019</td>\n      <td>Manchester City</td>\n      <td>Norwich City</td>\n      <td>5</td>\n      <td>0</td>\n      <td>H</td>\n    </tr>\n    <tr>\n      <th>198489</th>\n      <td>2020-07-26</td>\n      <td>2019</td>\n      <td>Newcastle United</td>\n      <td>Liverpool</td>\n      <td>1</td>\n      <td>3</td>\n      <td>A</td>\n    </tr>\n    <tr>\n      <th>198490</th>\n      <td>2020-07-26</td>\n      <td>2019</td>\n      <td>Southampton</td>\n      <td>Sheffield United</td>\n      <td>3</td>\n      <td>1</td>\n      <td>H</td>\n    </tr>\n    <tr>\n      <th>198491</th>\n      <td>2020-07-26</td>\n      <td>2019</td>\n      <td>West Ham United</td>\n      <td>Aston Villa</td>\n      <td>1</td>\n      <td>1</td>\n      <td>D</td>\n    </tr>\n  </tbody>\n</table>\n</div>"
     },
     "metadata": {},
     "execution_count": 105
    }
   ],
   "source": [
    "data_first_division = data_first_division.drop([\"tier\", \"FT\", \"division\", \"totgoal\", \"goaldif\"], axis = 1)\n",
    "data_first_division.tail()"
   ]
  },
  {
   "source": [
    "# Separate Date"
   ],
   "cell_type": "markdown",
   "metadata": {}
  },
  {
   "cell_type": "code",
   "execution_count": 106,
   "metadata": {},
   "outputs": [
    {
     "output_type": "execute_result",
     "data": {
      "text/plain": [
       "        year month day\n",
       "118802  1980    08  16\n",
       "118803  1980    08  16\n",
       "118804  1980    08  16\n",
       "118805  1980    08  16\n",
       "118806  1980    08  16"
      ],
      "text/html": "<div>\n<style scoped>\n    .dataframe tbody tr th:only-of-type {\n        vertical-align: middle;\n    }\n\n    .dataframe tbody tr th {\n        vertical-align: top;\n    }\n\n    .dataframe thead th {\n        text-align: right;\n    }\n</style>\n<table border=\"1\" class=\"dataframe\">\n  <thead>\n    <tr style=\"text-align: right;\">\n      <th></th>\n      <th>year</th>\n      <th>month</th>\n      <th>day</th>\n    </tr>\n  </thead>\n  <tbody>\n    <tr>\n      <th>118802</th>\n      <td>1980</td>\n      <td>08</td>\n      <td>16</td>\n    </tr>\n    <tr>\n      <th>118803</th>\n      <td>1980</td>\n      <td>08</td>\n      <td>16</td>\n    </tr>\n    <tr>\n      <th>118804</th>\n      <td>1980</td>\n      <td>08</td>\n      <td>16</td>\n    </tr>\n    <tr>\n      <th>118805</th>\n      <td>1980</td>\n      <td>08</td>\n      <td>16</td>\n    </tr>\n    <tr>\n      <th>118806</th>\n      <td>1980</td>\n      <td>08</td>\n      <td>16</td>\n    </tr>\n  </tbody>\n</table>\n</div>"
     },
     "metadata": {},
     "execution_count": 106
    }
   ],
   "source": [
    "date = data_first_division.Date.str.split('-',  n=-1, expand=True)\n",
    "date.columns = [\"year\", \"month\", \"day\"]\n",
    "date.head()"
   ]
  },
  {
   "cell_type": "code",
   "execution_count": 107,
   "metadata": {},
   "outputs": [
    {
     "output_type": "execute_result",
     "data": {
      "text/plain": [
       "        year month day  Season                    home  \\\n",
       "118802  1980    08  16    1980         Birmingham City   \n",
       "118803  1980    08  16    1980  Brighton & Hove Albion   \n",
       "118804  1980    08  16    1980            Leeds United   \n",
       "118805  1980    08  16    1980          Leicester City   \n",
       "118806  1980    08  16    1980               Liverpool   \n",
       "\n",
       "                        visitor  hgoal  vgoal result  \n",
       "118802            Coventry City      3      1      H  \n",
       "118803  Wolverhampton Wanderers      2      0      H  \n",
       "118804              Aston Villa      1      2      A  \n",
       "118805             Ipswich Town      0      1      A  \n",
       "118806           Crystal Palace      3      0      H  "
      ],
      "text/html": "<div>\n<style scoped>\n    .dataframe tbody tr th:only-of-type {\n        vertical-align: middle;\n    }\n\n    .dataframe tbody tr th {\n        vertical-align: top;\n    }\n\n    .dataframe thead th {\n        text-align: right;\n    }\n</style>\n<table border=\"1\" class=\"dataframe\">\n  <thead>\n    <tr style=\"text-align: right;\">\n      <th></th>\n      <th>year</th>\n      <th>month</th>\n      <th>day</th>\n      <th>Season</th>\n      <th>home</th>\n      <th>visitor</th>\n      <th>hgoal</th>\n      <th>vgoal</th>\n      <th>result</th>\n    </tr>\n  </thead>\n  <tbody>\n    <tr>\n      <th>118802</th>\n      <td>1980</td>\n      <td>08</td>\n      <td>16</td>\n      <td>1980</td>\n      <td>Birmingham City</td>\n      <td>Coventry City</td>\n      <td>3</td>\n      <td>1</td>\n      <td>H</td>\n    </tr>\n    <tr>\n      <th>118803</th>\n      <td>1980</td>\n      <td>08</td>\n      <td>16</td>\n      <td>1980</td>\n      <td>Brighton &amp; Hove Albion</td>\n      <td>Wolverhampton Wanderers</td>\n      <td>2</td>\n      <td>0</td>\n      <td>H</td>\n    </tr>\n    <tr>\n      <th>118804</th>\n      <td>1980</td>\n      <td>08</td>\n      <td>16</td>\n      <td>1980</td>\n      <td>Leeds United</td>\n      <td>Aston Villa</td>\n      <td>1</td>\n      <td>2</td>\n      <td>A</td>\n    </tr>\n    <tr>\n      <th>118805</th>\n      <td>1980</td>\n      <td>08</td>\n      <td>16</td>\n      <td>1980</td>\n      <td>Leicester City</td>\n      <td>Ipswich Town</td>\n      <td>0</td>\n      <td>1</td>\n      <td>A</td>\n    </tr>\n    <tr>\n      <th>118806</th>\n      <td>1980</td>\n      <td>08</td>\n      <td>16</td>\n      <td>1980</td>\n      <td>Liverpool</td>\n      <td>Crystal Palace</td>\n      <td>3</td>\n      <td>0</td>\n      <td>H</td>\n    </tr>\n  </tbody>\n</table>\n</div>"
     },
     "metadata": {},
     "execution_count": 107
    }
   ],
   "source": [
    "data_first_division = data_first_division.drop(\"Date\", axis = 1)\n",
    "data_first_division = pd.concat([date, data_first_division], axis=1)\n",
    "data_first_division.head()"
   ]
  },
  {
   "source": [
    "# Create dictionary teams "
   ],
   "cell_type": "markdown",
   "metadata": {}
  },
  {
   "cell_type": "code",
   "execution_count": 108,
   "metadata": {},
   "outputs": [
    {
     "output_type": "execute_result",
     "data": {
      "text/plain": [
       "{'Watford': 0,\n",
       " 'Leeds United': 1,\n",
       " 'Everton': 2,\n",
       " 'Millwall': 3,\n",
       " 'Tottenham Hotspur': 4,\n",
       " 'Norwich City': 5,\n",
       " 'Fulham': 6,\n",
       " 'Brighton & Hove Albion': 7,\n",
       " 'Crystal Palace': 8,\n",
       " 'Ipswich Town': 9,\n",
       " 'Liverpool': 10,\n",
       " 'Charlton Athletic': 11,\n",
       " 'Swansea City': 12,\n",
       " 'Cardiff City': 13,\n",
       " 'Leicester City': 14,\n",
       " 'Bolton Wanderers': 15,\n",
       " 'Reading': 16,\n",
       " 'Manchester City': 17,\n",
       " 'Burnley': 18,\n",
       " 'Aston Villa': 19,\n",
       " 'Derby County': 20,\n",
       " 'Queens Park Rangers': 21,\n",
       " 'Southampton': 22,\n",
       " 'Manchester United': 23,\n",
       " 'Barnsley': 24,\n",
       " 'Portsmouth': 25,\n",
       " 'Bradford City': 26,\n",
       " 'Hull City': 27,\n",
       " 'Sheffield United': 28,\n",
       " 'West Bromwich Albion': 29,\n",
       " 'Chelsea': 30,\n",
       " 'Sheffield Wednesday': 31,\n",
       " 'Oxford United': 32,\n",
       " 'Wimbledon': 33,\n",
       " 'Newcastle United': 34,\n",
       " 'Swindon Town': 35,\n",
       " 'Wigan Athletic': 36,\n",
       " 'Blackpool': 37,\n",
       " 'Nottingham Forest': 38,\n",
       " 'Notts County': 39,\n",
       " 'Coventry City': 40,\n",
       " 'AFC Bournemouth': 41,\n",
       " 'Wolverhampton Wanderers': 42,\n",
       " 'Sunderland': 43,\n",
       " 'Blackburn Rovers': 44,\n",
       " 'Arsenal': 45,\n",
       " 'Birmingham City': 46,\n",
       " 'Luton Town': 47,\n",
       " 'West Ham United': 48,\n",
       " 'Huddersfield Town': 49,\n",
       " 'Oldham Athletic': 50,\n",
       " 'Middlesbrough': 51,\n",
       " 'Stoke City': 52}"
      ]
     },
     "metadata": {},
     "execution_count": 108
    }
   ],
   "source": [
    "teams_set = set(data_first_division.home).union(set(data_first_division.visitor))\n",
    "team_number = range(len(teams_set))\n",
    "teams_dict = dict(zip(teams_set, team_number))\n",
    "teams_dict"
   ]
  },
  {
   "cell_type": "code",
   "execution_count": 109,
   "metadata": {},
   "outputs": [
    {
     "output_type": "execute_result",
     "data": {
      "text/plain": [
       "           team_name  team_number\n",
       "0            Watford            0\n",
       "1       Leeds United            1\n",
       "2            Everton            2\n",
       "3           Millwall            3\n",
       "4  Tottenham Hotspur            4"
      ],
      "text/html": "<div>\n<style scoped>\n    .dataframe tbody tr th:only-of-type {\n        vertical-align: middle;\n    }\n\n    .dataframe tbody tr th {\n        vertical-align: top;\n    }\n\n    .dataframe thead th {\n        text-align: right;\n    }\n</style>\n<table border=\"1\" class=\"dataframe\">\n  <thead>\n    <tr style=\"text-align: right;\">\n      <th></th>\n      <th>team_name</th>\n      <th>team_number</th>\n    </tr>\n  </thead>\n  <tbody>\n    <tr>\n      <th>0</th>\n      <td>Watford</td>\n      <td>0</td>\n    </tr>\n    <tr>\n      <th>1</th>\n      <td>Leeds United</td>\n      <td>1</td>\n    </tr>\n    <tr>\n      <th>2</th>\n      <td>Everton</td>\n      <td>2</td>\n    </tr>\n    <tr>\n      <th>3</th>\n      <td>Millwall</td>\n      <td>3</td>\n    </tr>\n    <tr>\n      <th>4</th>\n      <td>Tottenham Hotspur</td>\n      <td>4</td>\n    </tr>\n  </tbody>\n</table>\n</div>"
     },
     "metadata": {},
     "execution_count": 109
    }
   ],
   "source": [
    "teams_df = pd.DataFrame({\"team_name\":list(teams_set), \"team_number\":team_number})\n",
    "teams_df.head()"
   ]
  },
  {
   "cell_type": "code",
   "execution_count": 110,
   "metadata": {},
   "outputs": [],
   "source": [
    "teams_df.to_csv(\"teams.csv\", index=False)"
   ]
  },
  {
   "cell_type": "code",
   "execution_count": 111,
   "metadata": {},
   "outputs": [
    {
     "output_type": "execute_result",
     "data": {
      "text/plain": [
       "        year month day  Season  home  visitor  hgoal  vgoal result\n",
       "118802  1980    08  16    1980    46       40      3      1      H\n",
       "118803  1980    08  16    1980     7       42      2      0      H\n",
       "118804  1980    08  16    1980     1       19      1      2      A\n",
       "118805  1980    08  16    1980    14        9      0      1      A\n",
       "118806  1980    08  16    1980    10        8      3      0      H"
      ],
      "text/html": "<div>\n<style scoped>\n    .dataframe tbody tr th:only-of-type {\n        vertical-align: middle;\n    }\n\n    .dataframe tbody tr th {\n        vertical-align: top;\n    }\n\n    .dataframe thead th {\n        text-align: right;\n    }\n</style>\n<table border=\"1\" class=\"dataframe\">\n  <thead>\n    <tr style=\"text-align: right;\">\n      <th></th>\n      <th>year</th>\n      <th>month</th>\n      <th>day</th>\n      <th>Season</th>\n      <th>home</th>\n      <th>visitor</th>\n      <th>hgoal</th>\n      <th>vgoal</th>\n      <th>result</th>\n    </tr>\n  </thead>\n  <tbody>\n    <tr>\n      <th>118802</th>\n      <td>1980</td>\n      <td>08</td>\n      <td>16</td>\n      <td>1980</td>\n      <td>46</td>\n      <td>40</td>\n      <td>3</td>\n      <td>1</td>\n      <td>H</td>\n    </tr>\n    <tr>\n      <th>118803</th>\n      <td>1980</td>\n      <td>08</td>\n      <td>16</td>\n      <td>1980</td>\n      <td>7</td>\n      <td>42</td>\n      <td>2</td>\n      <td>0</td>\n      <td>H</td>\n    </tr>\n    <tr>\n      <th>118804</th>\n      <td>1980</td>\n      <td>08</td>\n      <td>16</td>\n      <td>1980</td>\n      <td>1</td>\n      <td>19</td>\n      <td>1</td>\n      <td>2</td>\n      <td>A</td>\n    </tr>\n    <tr>\n      <th>118805</th>\n      <td>1980</td>\n      <td>08</td>\n      <td>16</td>\n      <td>1980</td>\n      <td>14</td>\n      <td>9</td>\n      <td>0</td>\n      <td>1</td>\n      <td>A</td>\n    </tr>\n    <tr>\n      <th>118806</th>\n      <td>1980</td>\n      <td>08</td>\n      <td>16</td>\n      <td>1980</td>\n      <td>10</td>\n      <td>8</td>\n      <td>3</td>\n      <td>0</td>\n      <td>H</td>\n    </tr>\n  </tbody>\n</table>\n</div>"
     },
     "metadata": {},
     "execution_count": 111
    }
   ],
   "source": [
    "data_first_division.home = data_first_division.home.apply(teams_dict.get)\n",
    "data_first_division.visitor = data_first_division.visitor.apply(teams_dict.get)\n",
    "data_first_division.head()"
   ]
  },
  {
   "source": [
    "# Modify Result"
   ],
   "cell_type": "markdown",
   "metadata": {}
  },
  {
   "cell_type": "code",
   "execution_count": 112,
   "metadata": {},
   "outputs": [
    {
     "output_type": "execute_result",
     "data": {
      "text/plain": [
       "        year month day  Season  home  visitor  hgoal  vgoal  result\n",
       "118802  1980    08  16    1980    46       40      3      1       2\n",
       "118803  1980    08  16    1980     7       42      2      0       2\n",
       "118804  1980    08  16    1980     1       19      1      2       3\n",
       "118805  1980    08  16    1980    14        9      0      1       3\n",
       "118806  1980    08  16    1980    10        8      3      0       2"
      ],
      "text/html": "<div>\n<style scoped>\n    .dataframe tbody tr th:only-of-type {\n        vertical-align: middle;\n    }\n\n    .dataframe tbody tr th {\n        vertical-align: top;\n    }\n\n    .dataframe thead th {\n        text-align: right;\n    }\n</style>\n<table border=\"1\" class=\"dataframe\">\n  <thead>\n    <tr style=\"text-align: right;\">\n      <th></th>\n      <th>year</th>\n      <th>month</th>\n      <th>day</th>\n      <th>Season</th>\n      <th>home</th>\n      <th>visitor</th>\n      <th>hgoal</th>\n      <th>vgoal</th>\n      <th>result</th>\n    </tr>\n  </thead>\n  <tbody>\n    <tr>\n      <th>118802</th>\n      <td>1980</td>\n      <td>08</td>\n      <td>16</td>\n      <td>1980</td>\n      <td>46</td>\n      <td>40</td>\n      <td>3</td>\n      <td>1</td>\n      <td>2</td>\n    </tr>\n    <tr>\n      <th>118803</th>\n      <td>1980</td>\n      <td>08</td>\n      <td>16</td>\n      <td>1980</td>\n      <td>7</td>\n      <td>42</td>\n      <td>2</td>\n      <td>0</td>\n      <td>2</td>\n    </tr>\n    <tr>\n      <th>118804</th>\n      <td>1980</td>\n      <td>08</td>\n      <td>16</td>\n      <td>1980</td>\n      <td>1</td>\n      <td>19</td>\n      <td>1</td>\n      <td>2</td>\n      <td>3</td>\n    </tr>\n    <tr>\n      <th>118805</th>\n      <td>1980</td>\n      <td>08</td>\n      <td>16</td>\n      <td>1980</td>\n      <td>14</td>\n      <td>9</td>\n      <td>0</td>\n      <td>1</td>\n      <td>3</td>\n    </tr>\n    <tr>\n      <th>118806</th>\n      <td>1980</td>\n      <td>08</td>\n      <td>16</td>\n      <td>1980</td>\n      <td>10</td>\n      <td>8</td>\n      <td>3</td>\n      <td>0</td>\n      <td>2</td>\n    </tr>\n  </tbody>\n</table>\n</div>"
     },
     "metadata": {},
     "execution_count": 112
    }
   ],
   "source": [
    "result_dict = {\"D\":1, \"H\":2, \"A\":3}\n",
    "data_first_division.result = data_first_division.result.apply(result_dict.get)\n",
    "data_first_division.head()"
   ]
  },
  {
   "source": [
    "# Save DataFrame"
   ],
   "cell_type": "markdown",
   "metadata": {}
  },
  {
   "cell_type": "code",
   "execution_count": 113,
   "metadata": {},
   "outputs": [],
   "source": [
    "data_first_division.to_csv(\"england-clean.csv\", index = 0)"
   ]
  },
  {
   "cell_type": "code",
   "execution_count": 114,
   "metadata": {},
   "outputs": [
    {
     "output_type": "execute_result",
     "data": {
      "text/plain": [
       "        year month day  Season  home  visitor  hgoal  vgoal  result\n",
       "198487  2020    07  26    2019    14       23      0      2       3\n",
       "198488  2020    07  26    2019    17        5      5      0       2\n",
       "198489  2020    07  26    2019    34       10      1      3       3\n",
       "198490  2020    07  26    2019    22       28      3      1       2\n",
       "198491  2020    07  26    2019    48       19      1      1       1"
      ],
      "text/html": "<div>\n<style scoped>\n    .dataframe tbody tr th:only-of-type {\n        vertical-align: middle;\n    }\n\n    .dataframe tbody tr th {\n        vertical-align: top;\n    }\n\n    .dataframe thead th {\n        text-align: right;\n    }\n</style>\n<table border=\"1\" class=\"dataframe\">\n  <thead>\n    <tr style=\"text-align: right;\">\n      <th></th>\n      <th>year</th>\n      <th>month</th>\n      <th>day</th>\n      <th>Season</th>\n      <th>home</th>\n      <th>visitor</th>\n      <th>hgoal</th>\n      <th>vgoal</th>\n      <th>result</th>\n    </tr>\n  </thead>\n  <tbody>\n    <tr>\n      <th>198487</th>\n      <td>2020</td>\n      <td>07</td>\n      <td>26</td>\n      <td>2019</td>\n      <td>14</td>\n      <td>23</td>\n      <td>0</td>\n      <td>2</td>\n      <td>3</td>\n    </tr>\n    <tr>\n      <th>198488</th>\n      <td>2020</td>\n      <td>07</td>\n      <td>26</td>\n      <td>2019</td>\n      <td>17</td>\n      <td>5</td>\n      <td>5</td>\n      <td>0</td>\n      <td>2</td>\n    </tr>\n    <tr>\n      <th>198489</th>\n      <td>2020</td>\n      <td>07</td>\n      <td>26</td>\n      <td>2019</td>\n      <td>34</td>\n      <td>10</td>\n      <td>1</td>\n      <td>3</td>\n      <td>3</td>\n    </tr>\n    <tr>\n      <th>198490</th>\n      <td>2020</td>\n      <td>07</td>\n      <td>26</td>\n      <td>2019</td>\n      <td>22</td>\n      <td>28</td>\n      <td>3</td>\n      <td>1</td>\n      <td>2</td>\n    </tr>\n    <tr>\n      <th>198491</th>\n      <td>2020</td>\n      <td>07</td>\n      <td>26</td>\n      <td>2019</td>\n      <td>48</td>\n      <td>19</td>\n      <td>1</td>\n      <td>1</td>\n      <td>1</td>\n    </tr>\n  </tbody>\n</table>\n</div>"
     },
     "metadata": {},
     "execution_count": 114
    }
   ],
   "source": [
    "data_first_division.tail()"
   ]
  }
 ]
}