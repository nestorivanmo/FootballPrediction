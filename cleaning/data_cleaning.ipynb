{
 "metadata": {
  "language_info": {
   "codemirror_mode": {
    "name": "ipython",
    "version": 3
   },
   "file_extension": ".py",
   "mimetype": "text/x-python",
   "name": "python",
   "nbconvert_exporter": "python",
   "pygments_lexer": "ipython3",
   "version": "3.8.5-final"
  },
  "orig_nbformat": 2,
  "kernelspec": {
   "name": "python3",
   "display_name": "Python 3",
   "language": "python"
  }
 },
 "nbformat": 4,
 "nbformat_minor": 2,
 "cells": [
  {
   "cell_type": "code",
   "execution_count": 370,
   "metadata": {},
   "outputs": [],
   "source": [
    "import pandas as pd"
   ]
  },
  {
   "cell_type": "code",
   "execution_count": 371,
   "metadata": {},
   "outputs": [
    {
     "output_type": "execute_result",
     "data": {
      "text/plain": [
       "         Date  Season                     home               visitor   FT  \\\n",
       "0  1888-09-08    1888         Bolton Wanderers          Derby County  3-6   \n",
       "1  1888-09-08    1888                  Everton       Accrington F.C.  2-1   \n",
       "2  1888-09-08    1888        Preston North End               Burnley  5-2   \n",
       "3  1888-09-08    1888               Stoke City  West Bromwich Albion  0-2   \n",
       "4  1888-09-08    1888  Wolverhampton Wanderers           Aston Villa  1-1   \n",
       "\n",
       "   hgoal  vgoal division  tier  totgoal  goaldif result  \n",
       "0      3      6        1     1        9       -3      A  \n",
       "1      2      1        1     1        3        1      H  \n",
       "2      5      2        1     1        7        3      H  \n",
       "3      0      2        1     1        2       -2      A  \n",
       "4      1      1        1     1        2        0      D  "
      ],
      "text/html": "<div>\n<style scoped>\n    .dataframe tbody tr th:only-of-type {\n        vertical-align: middle;\n    }\n\n    .dataframe tbody tr th {\n        vertical-align: top;\n    }\n\n    .dataframe thead th {\n        text-align: right;\n    }\n</style>\n<table border=\"1\" class=\"dataframe\">\n  <thead>\n    <tr style=\"text-align: right;\">\n      <th></th>\n      <th>Date</th>\n      <th>Season</th>\n      <th>home</th>\n      <th>visitor</th>\n      <th>FT</th>\n      <th>hgoal</th>\n      <th>vgoal</th>\n      <th>division</th>\n      <th>tier</th>\n      <th>totgoal</th>\n      <th>goaldif</th>\n      <th>result</th>\n    </tr>\n  </thead>\n  <tbody>\n    <tr>\n      <th>0</th>\n      <td>1888-09-08</td>\n      <td>1888</td>\n      <td>Bolton Wanderers</td>\n      <td>Derby County</td>\n      <td>3-6</td>\n      <td>3</td>\n      <td>6</td>\n      <td>1</td>\n      <td>1</td>\n      <td>9</td>\n      <td>-3</td>\n      <td>A</td>\n    </tr>\n    <tr>\n      <th>1</th>\n      <td>1888-09-08</td>\n      <td>1888</td>\n      <td>Everton</td>\n      <td>Accrington F.C.</td>\n      <td>2-1</td>\n      <td>2</td>\n      <td>1</td>\n      <td>1</td>\n      <td>1</td>\n      <td>3</td>\n      <td>1</td>\n      <td>H</td>\n    </tr>\n    <tr>\n      <th>2</th>\n      <td>1888-09-08</td>\n      <td>1888</td>\n      <td>Preston North End</td>\n      <td>Burnley</td>\n      <td>5-2</td>\n      <td>5</td>\n      <td>2</td>\n      <td>1</td>\n      <td>1</td>\n      <td>7</td>\n      <td>3</td>\n      <td>H</td>\n    </tr>\n    <tr>\n      <th>3</th>\n      <td>1888-09-08</td>\n      <td>1888</td>\n      <td>Stoke City</td>\n      <td>West Bromwich Albion</td>\n      <td>0-2</td>\n      <td>0</td>\n      <td>2</td>\n      <td>1</td>\n      <td>1</td>\n      <td>2</td>\n      <td>-2</td>\n      <td>A</td>\n    </tr>\n    <tr>\n      <th>4</th>\n      <td>1888-09-08</td>\n      <td>1888</td>\n      <td>Wolverhampton Wanderers</td>\n      <td>Aston Villa</td>\n      <td>1-1</td>\n      <td>1</td>\n      <td>1</td>\n      <td>1</td>\n      <td>1</td>\n      <td>2</td>\n      <td>0</td>\n      <td>D</td>\n    </tr>\n  </tbody>\n</table>\n</div>"
     },
     "metadata": {},
     "execution_count": 371
    }
   ],
   "source": [
    "football = pd.read_csv('england.csv')\n",
    "football.head()"
   ]
  },
  {
   "cell_type": "code",
   "execution_count": 372,
   "metadata": {},
   "outputs": [
    {
     "output_type": "execute_result",
     "data": {
      "text/plain": [
       "              Date  Season             home              visitor   FT  hgoal  \\\n",
       "199879  2020-03-07    2019  Plymouth Argyle         Macclesfield  3-0      3   \n",
       "199880  2020-03-07    2019     Salford City        Bradford City  2-0      2   \n",
       "199881  2020-03-07    2019     Swindon Town  Forest Green Rovers  0-2      0   \n",
       "199882  2020-03-07    2019          Walsall          Exeter City  3-1      3   \n",
       "199883  2020-03-10    2019  Carlisle United       Newport County  2-0      2   \n",
       "\n",
       "        vgoal division  tier  totgoal  goaldif result  \n",
       "199879      0        4     4        3        3      H  \n",
       "199880      0        4     4        2        2      H  \n",
       "199881      2        4     4        2       -2      A  \n",
       "199882      1        4     4        4        2      H  \n",
       "199883      0        4     4        2        2      H  "
      ],
      "text/html": "<div>\n<style scoped>\n    .dataframe tbody tr th:only-of-type {\n        vertical-align: middle;\n    }\n\n    .dataframe tbody tr th {\n        vertical-align: top;\n    }\n\n    .dataframe thead th {\n        text-align: right;\n    }\n</style>\n<table border=\"1\" class=\"dataframe\">\n  <thead>\n    <tr style=\"text-align: right;\">\n      <th></th>\n      <th>Date</th>\n      <th>Season</th>\n      <th>home</th>\n      <th>visitor</th>\n      <th>FT</th>\n      <th>hgoal</th>\n      <th>vgoal</th>\n      <th>division</th>\n      <th>tier</th>\n      <th>totgoal</th>\n      <th>goaldif</th>\n      <th>result</th>\n    </tr>\n  </thead>\n  <tbody>\n    <tr>\n      <th>199879</th>\n      <td>2020-03-07</td>\n      <td>2019</td>\n      <td>Plymouth Argyle</td>\n      <td>Macclesfield</td>\n      <td>3-0</td>\n      <td>3</td>\n      <td>0</td>\n      <td>4</td>\n      <td>4</td>\n      <td>3</td>\n      <td>3</td>\n      <td>H</td>\n    </tr>\n    <tr>\n      <th>199880</th>\n      <td>2020-03-07</td>\n      <td>2019</td>\n      <td>Salford City</td>\n      <td>Bradford City</td>\n      <td>2-0</td>\n      <td>2</td>\n      <td>0</td>\n      <td>4</td>\n      <td>4</td>\n      <td>2</td>\n      <td>2</td>\n      <td>H</td>\n    </tr>\n    <tr>\n      <th>199881</th>\n      <td>2020-03-07</td>\n      <td>2019</td>\n      <td>Swindon Town</td>\n      <td>Forest Green Rovers</td>\n      <td>0-2</td>\n      <td>0</td>\n      <td>2</td>\n      <td>4</td>\n      <td>4</td>\n      <td>2</td>\n      <td>-2</td>\n      <td>A</td>\n    </tr>\n    <tr>\n      <th>199882</th>\n      <td>2020-03-07</td>\n      <td>2019</td>\n      <td>Walsall</td>\n      <td>Exeter City</td>\n      <td>3-1</td>\n      <td>3</td>\n      <td>1</td>\n      <td>4</td>\n      <td>4</td>\n      <td>4</td>\n      <td>2</td>\n      <td>H</td>\n    </tr>\n    <tr>\n      <th>199883</th>\n      <td>2020-03-10</td>\n      <td>2019</td>\n      <td>Carlisle United</td>\n      <td>Newport County</td>\n      <td>2-0</td>\n      <td>2</td>\n      <td>0</td>\n      <td>4</td>\n      <td>4</td>\n      <td>2</td>\n      <td>2</td>\n      <td>H</td>\n    </tr>\n  </tbody>\n</table>\n</div>"
     },
     "metadata": {},
     "execution_count": 372
    }
   ],
   "source": [
    "football.tail()"
   ]
  },
  {
   "source": [
    "## Paso 1\n",
    "- Filtrando únicamente por división 1 y tier 1\n",
    "- Borrando columna tier 1\n",
    "- Borrando columna FT"
   ],
   "cell_type": "markdown",
   "metadata": {}
  },
  {
   "cell_type": "code",
   "execution_count": 373,
   "metadata": {},
   "outputs": [
    {
     "output_type": "execute_result",
     "data": {
      "text/plain": [
       "              Date  Season               home              visitor   FT  \\\n",
       "131077  1986-09-02    1986            Arsenal  Sheffield Wednesday  2-0   \n",
       "131078  1986-09-02    1986  Charlton Athletic            Wimbledon  0-1   \n",
       "131079  1986-09-02    1986            Chelsea        Coventry City  0-0   \n",
       "131080  1986-09-02    1986            Everton        Oxford United  3-1   \n",
       "131081  1986-09-02    1986        Southampton    Tottenham Hotspur  2-0   \n",
       "\n",
       "        hgoal  vgoal division  tier  totgoal  goaldif result  \n",
       "131077      2      0        1     1        2        2      H  \n",
       "131078      0      1        1     1        1       -1      A  \n",
       "131079      0      0        1     1        0        0      D  \n",
       "131080      3      1        1     1        4        2      H  \n",
       "131081      2      0        1     1        2        2      H  "
      ],
      "text/html": "<div>\n<style scoped>\n    .dataframe tbody tr th:only-of-type {\n        vertical-align: middle;\n    }\n\n    .dataframe tbody tr th {\n        vertical-align: top;\n    }\n\n    .dataframe thead th {\n        text-align: right;\n    }\n</style>\n<table border=\"1\" class=\"dataframe\">\n  <thead>\n    <tr style=\"text-align: right;\">\n      <th></th>\n      <th>Date</th>\n      <th>Season</th>\n      <th>home</th>\n      <th>visitor</th>\n      <th>FT</th>\n      <th>hgoal</th>\n      <th>vgoal</th>\n      <th>division</th>\n      <th>tier</th>\n      <th>totgoal</th>\n      <th>goaldif</th>\n      <th>result</th>\n    </tr>\n  </thead>\n  <tbody>\n    <tr>\n      <th>131077</th>\n      <td>1986-09-02</td>\n      <td>1986</td>\n      <td>Arsenal</td>\n      <td>Sheffield Wednesday</td>\n      <td>2-0</td>\n      <td>2</td>\n      <td>0</td>\n      <td>1</td>\n      <td>1</td>\n      <td>2</td>\n      <td>2</td>\n      <td>H</td>\n    </tr>\n    <tr>\n      <th>131078</th>\n      <td>1986-09-02</td>\n      <td>1986</td>\n      <td>Charlton Athletic</td>\n      <td>Wimbledon</td>\n      <td>0-1</td>\n      <td>0</td>\n      <td>1</td>\n      <td>1</td>\n      <td>1</td>\n      <td>1</td>\n      <td>-1</td>\n      <td>A</td>\n    </tr>\n    <tr>\n      <th>131079</th>\n      <td>1986-09-02</td>\n      <td>1986</td>\n      <td>Chelsea</td>\n      <td>Coventry City</td>\n      <td>0-0</td>\n      <td>0</td>\n      <td>0</td>\n      <td>1</td>\n      <td>1</td>\n      <td>0</td>\n      <td>0</td>\n      <td>D</td>\n    </tr>\n    <tr>\n      <th>131080</th>\n      <td>1986-09-02</td>\n      <td>1986</td>\n      <td>Everton</td>\n      <td>Oxford United</td>\n      <td>3-1</td>\n      <td>3</td>\n      <td>1</td>\n      <td>1</td>\n      <td>1</td>\n      <td>4</td>\n      <td>2</td>\n      <td>H</td>\n    </tr>\n    <tr>\n      <th>131081</th>\n      <td>1986-09-02</td>\n      <td>1986</td>\n      <td>Southampton</td>\n      <td>Tottenham Hotspur</td>\n      <td>2-0</td>\n      <td>2</td>\n      <td>0</td>\n      <td>1</td>\n      <td>1</td>\n      <td>2</td>\n      <td>2</td>\n      <td>H</td>\n    </tr>\n  </tbody>\n</table>\n</div>"
     },
     "metadata": {},
     "execution_count": 373
    }
   ],
   "source": [
    "football = football[(football.division == 1) & (football.Season >= 1980)]\n",
    "football.head()"
   ]
  },
  {
   "cell_type": "code",
   "execution_count": 374,
   "metadata": {},
   "outputs": [],
   "source": [
    "football = football.drop('tier', axis=1)\n",
    "football = football.drop('FT', axis=1)"
   ]
  },
  {
   "cell_type": "code",
   "execution_count": 375,
   "metadata": {},
   "outputs": [
    {
     "output_type": "execute_result",
     "data": {
      "text/plain": [
       "              Date  Season               home              visitor  hgoal  \\\n",
       "131077  1986-09-02    1986            Arsenal  Sheffield Wednesday      2   \n",
       "131078  1986-09-02    1986  Charlton Athletic            Wimbledon      0   \n",
       "131079  1986-09-02    1986            Chelsea        Coventry City      0   \n",
       "131080  1986-09-02    1986            Everton        Oxford United      3   \n",
       "131081  1986-09-02    1986        Southampton    Tottenham Hotspur      2   \n",
       "\n",
       "        vgoal division  totgoal  goaldif result  \n",
       "131077      0        1        2        2      H  \n",
       "131078      1        1        1       -1      A  \n",
       "131079      0        1        0        0      D  \n",
       "131080      1        1        4        2      H  \n",
       "131081      0        1        2        2      H  "
      ],
      "text/html": "<div>\n<style scoped>\n    .dataframe tbody tr th:only-of-type {\n        vertical-align: middle;\n    }\n\n    .dataframe tbody tr th {\n        vertical-align: top;\n    }\n\n    .dataframe thead th {\n        text-align: right;\n    }\n</style>\n<table border=\"1\" class=\"dataframe\">\n  <thead>\n    <tr style=\"text-align: right;\">\n      <th></th>\n      <th>Date</th>\n      <th>Season</th>\n      <th>home</th>\n      <th>visitor</th>\n      <th>hgoal</th>\n      <th>vgoal</th>\n      <th>division</th>\n      <th>totgoal</th>\n      <th>goaldif</th>\n      <th>result</th>\n    </tr>\n  </thead>\n  <tbody>\n    <tr>\n      <th>131077</th>\n      <td>1986-09-02</td>\n      <td>1986</td>\n      <td>Arsenal</td>\n      <td>Sheffield Wednesday</td>\n      <td>2</td>\n      <td>0</td>\n      <td>1</td>\n      <td>2</td>\n      <td>2</td>\n      <td>H</td>\n    </tr>\n    <tr>\n      <th>131078</th>\n      <td>1986-09-02</td>\n      <td>1986</td>\n      <td>Charlton Athletic</td>\n      <td>Wimbledon</td>\n      <td>0</td>\n      <td>1</td>\n      <td>1</td>\n      <td>1</td>\n      <td>-1</td>\n      <td>A</td>\n    </tr>\n    <tr>\n      <th>131079</th>\n      <td>1986-09-02</td>\n      <td>1986</td>\n      <td>Chelsea</td>\n      <td>Coventry City</td>\n      <td>0</td>\n      <td>0</td>\n      <td>1</td>\n      <td>0</td>\n      <td>0</td>\n      <td>D</td>\n    </tr>\n    <tr>\n      <th>131080</th>\n      <td>1986-09-02</td>\n      <td>1986</td>\n      <td>Everton</td>\n      <td>Oxford United</td>\n      <td>3</td>\n      <td>1</td>\n      <td>1</td>\n      <td>4</td>\n      <td>2</td>\n      <td>H</td>\n    </tr>\n    <tr>\n      <th>131081</th>\n      <td>1986-09-02</td>\n      <td>1986</td>\n      <td>Southampton</td>\n      <td>Tottenham Hotspur</td>\n      <td>2</td>\n      <td>0</td>\n      <td>1</td>\n      <td>2</td>\n      <td>2</td>\n      <td>H</td>\n    </tr>\n  </tbody>\n</table>\n</div>"
     },
     "metadata": {},
     "execution_count": 375
    }
   ],
   "source": [
    "football.head()"
   ]
  },
  {
   "source": [
    "## Paso 2\n",
    "- Quitando el año de la columna Date\n",
    "- Separando mes y día en dos columnas como int64"
   ],
   "cell_type": "markdown",
   "metadata": {}
  },
  {
   "cell_type": "code",
   "execution_count": 376,
   "metadata": {},
   "outputs": [],
   "source": [
    "temp = football.Date.str.split('-',  n=-1, expand=True)\n",
    "temp = temp.drop(0, axis=1)"
   ]
  },
  {
   "cell_type": "code",
   "execution_count": 377,
   "metadata": {},
   "outputs": [],
   "source": [
    "temp.columns = ['month', 'day']"
   ]
  },
  {
   "cell_type": "code",
   "execution_count": 378,
   "metadata": {},
   "outputs": [],
   "source": [
    "temp.month = temp.month.astype(int)\n",
    "temp.day = temp.month.astype(int)"
   ]
  },
  {
   "cell_type": "code",
   "execution_count": 379,
   "metadata": {},
   "outputs": [
    {
     "output_type": "stream",
     "name": "stdout",
     "text": [
      "<class 'pandas.core.frame.DataFrame'>\nInt64Index: 13338 entries, 131077 to 198491\nData columns (total 2 columns):\n #   Column  Non-Null Count  Dtype\n---  ------  --------------  -----\n 0   month   13338 non-null  int64\n 1   day     13338 non-null  int64\ndtypes: int64(2)\nmemory usage: 312.6 KB\n"
     ]
    }
   ],
   "source": [
    "temp.info()"
   ]
  },
  {
   "cell_type": "code",
   "execution_count": 380,
   "metadata": {},
   "outputs": [
    {
     "output_type": "execute_result",
     "data": {
      "text/plain": [
       "              Date  Season               home              visitor  hgoal  \\\n",
       "131077  1986-09-02    1986            Arsenal  Sheffield Wednesday      2   \n",
       "131078  1986-09-02    1986  Charlton Athletic            Wimbledon      0   \n",
       "131079  1986-09-02    1986            Chelsea        Coventry City      0   \n",
       "131080  1986-09-02    1986            Everton        Oxford United      3   \n",
       "131081  1986-09-02    1986        Southampton    Tottenham Hotspur      2   \n",
       "\n",
       "        vgoal division  totgoal  goaldif result  \n",
       "131077      0        1        2        2      H  \n",
       "131078      1        1        1       -1      A  \n",
       "131079      0        1        0        0      D  \n",
       "131080      1        1        4        2      H  \n",
       "131081      0        1        2        2      H  "
      ],
      "text/html": "<div>\n<style scoped>\n    .dataframe tbody tr th:only-of-type {\n        vertical-align: middle;\n    }\n\n    .dataframe tbody tr th {\n        vertical-align: top;\n    }\n\n    .dataframe thead th {\n        text-align: right;\n    }\n</style>\n<table border=\"1\" class=\"dataframe\">\n  <thead>\n    <tr style=\"text-align: right;\">\n      <th></th>\n      <th>Date</th>\n      <th>Season</th>\n      <th>home</th>\n      <th>visitor</th>\n      <th>hgoal</th>\n      <th>vgoal</th>\n      <th>division</th>\n      <th>totgoal</th>\n      <th>goaldif</th>\n      <th>result</th>\n    </tr>\n  </thead>\n  <tbody>\n    <tr>\n      <th>131077</th>\n      <td>1986-09-02</td>\n      <td>1986</td>\n      <td>Arsenal</td>\n      <td>Sheffield Wednesday</td>\n      <td>2</td>\n      <td>0</td>\n      <td>1</td>\n      <td>2</td>\n      <td>2</td>\n      <td>H</td>\n    </tr>\n    <tr>\n      <th>131078</th>\n      <td>1986-09-02</td>\n      <td>1986</td>\n      <td>Charlton Athletic</td>\n      <td>Wimbledon</td>\n      <td>0</td>\n      <td>1</td>\n      <td>1</td>\n      <td>1</td>\n      <td>-1</td>\n      <td>A</td>\n    </tr>\n    <tr>\n      <th>131079</th>\n      <td>1986-09-02</td>\n      <td>1986</td>\n      <td>Chelsea</td>\n      <td>Coventry City</td>\n      <td>0</td>\n      <td>0</td>\n      <td>1</td>\n      <td>0</td>\n      <td>0</td>\n      <td>D</td>\n    </tr>\n    <tr>\n      <th>131080</th>\n      <td>1986-09-02</td>\n      <td>1986</td>\n      <td>Everton</td>\n      <td>Oxford United</td>\n      <td>3</td>\n      <td>1</td>\n      <td>1</td>\n      <td>4</td>\n      <td>2</td>\n      <td>H</td>\n    </tr>\n    <tr>\n      <th>131081</th>\n      <td>1986-09-02</td>\n      <td>1986</td>\n      <td>Southampton</td>\n      <td>Tottenham Hotspur</td>\n      <td>2</td>\n      <td>0</td>\n      <td>1</td>\n      <td>2</td>\n      <td>2</td>\n      <td>H</td>\n    </tr>\n  </tbody>\n</table>\n</div>"
     },
     "metadata": {},
     "execution_count": 380
    }
   ],
   "source": [
    "football.head()"
   ]
  },
  {
   "cell_type": "code",
   "execution_count": 381,
   "metadata": {},
   "outputs": [],
   "source": [
    "football = football.drop('Date', axis=1)"
   ]
  },
  {
   "cell_type": "code",
   "execution_count": 382,
   "metadata": {},
   "outputs": [
    {
     "output_type": "execute_result",
     "data": {
      "text/plain": [
       "        month  day  Season               home              visitor  hgoal  \\\n",
       "131077      9    9    1986            Arsenal  Sheffield Wednesday      2   \n",
       "131078      9    9    1986  Charlton Athletic            Wimbledon      0   \n",
       "131079      9    9    1986            Chelsea        Coventry City      0   \n",
       "131080      9    9    1986            Everton        Oxford United      3   \n",
       "131081      9    9    1986        Southampton    Tottenham Hotspur      2   \n",
       "\n",
       "        vgoal division  totgoal  goaldif result  \n",
       "131077      0        1        2        2      H  \n",
       "131078      1        1        1       -1      A  \n",
       "131079      0        1        0        0      D  \n",
       "131080      1        1        4        2      H  \n",
       "131081      0        1        2        2      H  "
      ],
      "text/html": "<div>\n<style scoped>\n    .dataframe tbody tr th:only-of-type {\n        vertical-align: middle;\n    }\n\n    .dataframe tbody tr th {\n        vertical-align: top;\n    }\n\n    .dataframe thead th {\n        text-align: right;\n    }\n</style>\n<table border=\"1\" class=\"dataframe\">\n  <thead>\n    <tr style=\"text-align: right;\">\n      <th></th>\n      <th>month</th>\n      <th>day</th>\n      <th>Season</th>\n      <th>home</th>\n      <th>visitor</th>\n      <th>hgoal</th>\n      <th>vgoal</th>\n      <th>division</th>\n      <th>totgoal</th>\n      <th>goaldif</th>\n      <th>result</th>\n    </tr>\n  </thead>\n  <tbody>\n    <tr>\n      <th>131077</th>\n      <td>9</td>\n      <td>9</td>\n      <td>1986</td>\n      <td>Arsenal</td>\n      <td>Sheffield Wednesday</td>\n      <td>2</td>\n      <td>0</td>\n      <td>1</td>\n      <td>2</td>\n      <td>2</td>\n      <td>H</td>\n    </tr>\n    <tr>\n      <th>131078</th>\n      <td>9</td>\n      <td>9</td>\n      <td>1986</td>\n      <td>Charlton Athletic</td>\n      <td>Wimbledon</td>\n      <td>0</td>\n      <td>1</td>\n      <td>1</td>\n      <td>1</td>\n      <td>-1</td>\n      <td>A</td>\n    </tr>\n    <tr>\n      <th>131079</th>\n      <td>9</td>\n      <td>9</td>\n      <td>1986</td>\n      <td>Chelsea</td>\n      <td>Coventry City</td>\n      <td>0</td>\n      <td>0</td>\n      <td>1</td>\n      <td>0</td>\n      <td>0</td>\n      <td>D</td>\n    </tr>\n    <tr>\n      <th>131080</th>\n      <td>9</td>\n      <td>9</td>\n      <td>1986</td>\n      <td>Everton</td>\n      <td>Oxford United</td>\n      <td>3</td>\n      <td>1</td>\n      <td>1</td>\n      <td>4</td>\n      <td>2</td>\n      <td>H</td>\n    </tr>\n    <tr>\n      <th>131081</th>\n      <td>9</td>\n      <td>9</td>\n      <td>1986</td>\n      <td>Southampton</td>\n      <td>Tottenham Hotspur</td>\n      <td>2</td>\n      <td>0</td>\n      <td>1</td>\n      <td>2</td>\n      <td>2</td>\n      <td>H</td>\n    </tr>\n  </tbody>\n</table>\n</div>"
     },
     "metadata": {},
     "execution_count": 382
    }
   ],
   "source": [
    "football = pd.concat([temp, football], axis=1)\n",
    "football.head()"
   ]
  },
  {
   "cell_type": "code",
   "execution_count": 383,
   "metadata": {},
   "outputs": [],
   "source": [
    "football.division = football.division.astype(int)"
   ]
  },
  {
   "cell_type": "code",
   "execution_count": 384,
   "metadata": {},
   "outputs": [
    {
     "output_type": "stream",
     "name": "stdout",
     "text": [
      "<class 'pandas.core.frame.DataFrame'>\nInt64Index: 13338 entries, 131077 to 198491\nData columns (total 11 columns):\n #   Column    Non-Null Count  Dtype \n---  ------    --------------  ----- \n 0   month     13338 non-null  int64 \n 1   day       13338 non-null  int64 \n 2   Season    13338 non-null  int64 \n 3   home      13338 non-null  object\n 4   visitor   13338 non-null  object\n 5   hgoal     13338 non-null  int64 \n 6   vgoal     13338 non-null  int64 \n 7   division  13338 non-null  int64 \n 8   totgoal   13338 non-null  int64 \n 9   goaldif   13338 non-null  int64 \n 10  result    13338 non-null  object\ndtypes: int64(8), object(3)\nmemory usage: 1.2+ MB\n"
     ]
    }
   ],
   "source": [
    "football.info()"
   ]
  },
  {
   "source": [
    "## Paso 3\n",
    "- Creando diccionario de equipos\n",
    "- Borrando columna result"
   ],
   "cell_type": "markdown",
   "metadata": {}
  },
  {
   "cell_type": "code",
   "execution_count": 385,
   "metadata": {},
   "outputs": [
    {
     "output_type": "execute_result",
     "data": {
      "text/plain": [
       "        month  day  Season               home              visitor  hgoal  \\\n",
       "131077      9    9    1986            Arsenal  Sheffield Wednesday      2   \n",
       "131078      9    9    1986  Charlton Athletic            Wimbledon      0   \n",
       "131079      9    9    1986            Chelsea        Coventry City      0   \n",
       "131080      9    9    1986            Everton        Oxford United      3   \n",
       "131081      9    9    1986        Southampton    Tottenham Hotspur      2   \n",
       "\n",
       "        vgoal  division  totgoal  goaldif result  \n",
       "131077      0         1        2        2      H  \n",
       "131078      1         1        1       -1      A  \n",
       "131079      0         1        0        0      D  \n",
       "131080      1         1        4        2      H  \n",
       "131081      0         1        2        2      H  "
      ],
      "text/html": "<div>\n<style scoped>\n    .dataframe tbody tr th:only-of-type {\n        vertical-align: middle;\n    }\n\n    .dataframe tbody tr th {\n        vertical-align: top;\n    }\n\n    .dataframe thead th {\n        text-align: right;\n    }\n</style>\n<table border=\"1\" class=\"dataframe\">\n  <thead>\n    <tr style=\"text-align: right;\">\n      <th></th>\n      <th>month</th>\n      <th>day</th>\n      <th>Season</th>\n      <th>home</th>\n      <th>visitor</th>\n      <th>hgoal</th>\n      <th>vgoal</th>\n      <th>division</th>\n      <th>totgoal</th>\n      <th>goaldif</th>\n      <th>result</th>\n    </tr>\n  </thead>\n  <tbody>\n    <tr>\n      <th>131077</th>\n      <td>9</td>\n      <td>9</td>\n      <td>1986</td>\n      <td>Arsenal</td>\n      <td>Sheffield Wednesday</td>\n      <td>2</td>\n      <td>0</td>\n      <td>1</td>\n      <td>2</td>\n      <td>2</td>\n      <td>H</td>\n    </tr>\n    <tr>\n      <th>131078</th>\n      <td>9</td>\n      <td>9</td>\n      <td>1986</td>\n      <td>Charlton Athletic</td>\n      <td>Wimbledon</td>\n      <td>0</td>\n      <td>1</td>\n      <td>1</td>\n      <td>1</td>\n      <td>-1</td>\n      <td>A</td>\n    </tr>\n    <tr>\n      <th>131079</th>\n      <td>9</td>\n      <td>9</td>\n      <td>1986</td>\n      <td>Chelsea</td>\n      <td>Coventry City</td>\n      <td>0</td>\n      <td>0</td>\n      <td>1</td>\n      <td>0</td>\n      <td>0</td>\n      <td>D</td>\n    </tr>\n    <tr>\n      <th>131080</th>\n      <td>9</td>\n      <td>9</td>\n      <td>1986</td>\n      <td>Everton</td>\n      <td>Oxford United</td>\n      <td>3</td>\n      <td>1</td>\n      <td>1</td>\n      <td>4</td>\n      <td>2</td>\n      <td>H</td>\n    </tr>\n    <tr>\n      <th>131081</th>\n      <td>9</td>\n      <td>9</td>\n      <td>1986</td>\n      <td>Southampton</td>\n      <td>Tottenham Hotspur</td>\n      <td>2</td>\n      <td>0</td>\n      <td>1</td>\n      <td>2</td>\n      <td>2</td>\n      <td>H</td>\n    </tr>\n  </tbody>\n</table>\n</div>"
     },
     "metadata": {},
     "execution_count": 385
    }
   ],
   "source": [
    "football.head()"
   ]
  },
  {
   "cell_type": "code",
   "execution_count": 386,
   "metadata": {},
   "outputs": [
    {
     "output_type": "stream",
     "name": "stdout",
     "text": [
      "53\n{'West Bromwich Albion', 'Chelsea', 'Aston Villa', 'Hull City', 'Tottenham Hotspur', 'Burnley', 'Bradford City', 'Blackburn Rovers', 'Newcastle United', 'Queens Park Rangers', 'Reading', 'Crystal Palace', 'AFC Bournemouth', 'Sheffield United', 'Wolverhampton Wanderers', 'Watford', 'West Ham United', 'Manchester United', 'Derby County', 'Oldham Athletic', 'Millwall', 'Manchester City', 'Charlton Athletic', 'Bolton Wanderers', 'Middlesbrough', 'Portsmouth', 'Cardiff City', 'Sunderland', 'Stoke City', 'Brighton & Hove Albion', 'Oxford United', 'Luton Town', 'Ipswich Town', 'Wigan Athletic', 'Arsenal', 'Leicester City', 'Southampton', 'Huddersfield Town', 'Swindon Town', 'Liverpool', 'Norwich City', 'Coventry City', 'Sheffield Wednesday', 'Birmingham City', 'Fulham', 'Notts County', 'Leeds United', 'Nottingham Forest', 'Blackpool', 'Swansea City', 'Everton', 'Barnsley', 'Wimbledon'}\n"
     ]
    }
   ],
   "source": [
    "teams_set = set(football.home).union(set(football.visitor))\n",
    "print(len(teams_set))\n",
    "print(teams_set)"
   ]
  },
  {
   "cell_type": "code",
   "execution_count": 387,
   "metadata": {},
   "outputs": [
    {
     "output_type": "execute_result",
     "data": {
      "text/plain": [
       "{'West Bromwich Albion': 0,\n",
       " 'Chelsea': 1,\n",
       " 'Aston Villa': 2,\n",
       " 'Hull City': 3,\n",
       " 'Tottenham Hotspur': 4,\n",
       " 'Burnley': 5,\n",
       " 'Bradford City': 6,\n",
       " 'Blackburn Rovers': 7,\n",
       " 'Newcastle United': 8,\n",
       " 'Queens Park Rangers': 9,\n",
       " 'Reading': 10,\n",
       " 'Crystal Palace': 11,\n",
       " 'AFC Bournemouth': 12,\n",
       " 'Sheffield United': 13,\n",
       " 'Wolverhampton Wanderers': 14,\n",
       " 'Watford': 15,\n",
       " 'West Ham United': 16,\n",
       " 'Manchester United': 17,\n",
       " 'Derby County': 18,\n",
       " 'Oldham Athletic': 19,\n",
       " 'Millwall': 20,\n",
       " 'Manchester City': 21,\n",
       " 'Charlton Athletic': 22,\n",
       " 'Bolton Wanderers': 23,\n",
       " 'Middlesbrough': 24,\n",
       " 'Portsmouth': 25,\n",
       " 'Cardiff City': 26,\n",
       " 'Sunderland': 27,\n",
       " 'Stoke City': 28,\n",
       " 'Brighton & Hove Albion': 29,\n",
       " 'Oxford United': 30,\n",
       " 'Luton Town': 31,\n",
       " 'Ipswich Town': 32,\n",
       " 'Wigan Athletic': 33,\n",
       " 'Arsenal': 34,\n",
       " 'Leicester City': 35,\n",
       " 'Southampton': 36,\n",
       " 'Huddersfield Town': 37,\n",
       " 'Swindon Town': 38,\n",
       " 'Liverpool': 39,\n",
       " 'Norwich City': 40,\n",
       " 'Coventry City': 41,\n",
       " 'Sheffield Wednesday': 42,\n",
       " 'Birmingham City': 43,\n",
       " 'Fulham': 44,\n",
       " 'Notts County': 45,\n",
       " 'Leeds United': 46,\n",
       " 'Nottingham Forest': 47,\n",
       " 'Blackpool': 48,\n",
       " 'Swansea City': 49,\n",
       " 'Everton': 50,\n",
       " 'Barnsley': 51,\n",
       " 'Wimbledon': 52}"
      ]
     },
     "metadata": {},
     "execution_count": 387
    }
   ],
   "source": [
    "teams_dict = dict(zip(teams_set,range(len(teams_set))))\n",
    "teams_dict"
   ]
  },
  {
   "cell_type": "code",
   "execution_count": 388,
   "metadata": {},
   "outputs": [
    {
     "output_type": "execute_result",
     "data": {
      "text/plain": [
       "        month  day  Season  home              visitor  hgoal  vgoal  division  \\\n",
       "131077      9    9    1986    34  Sheffield Wednesday      2      0         1   \n",
       "131078      9    9    1986    22            Wimbledon      0      1         1   \n",
       "131079      9    9    1986     1        Coventry City      0      0         1   \n",
       "131080      9    9    1986    50        Oxford United      3      1         1   \n",
       "131081      9    9    1986    36    Tottenham Hotspur      2      0         1   \n",
       "\n",
       "        totgoal  goaldif result  \n",
       "131077        2        2      H  \n",
       "131078        1       -1      A  \n",
       "131079        0        0      D  \n",
       "131080        4        2      H  \n",
       "131081        2        2      H  "
      ],
      "text/html": "<div>\n<style scoped>\n    .dataframe tbody tr th:only-of-type {\n        vertical-align: middle;\n    }\n\n    .dataframe tbody tr th {\n        vertical-align: top;\n    }\n\n    .dataframe thead th {\n        text-align: right;\n    }\n</style>\n<table border=\"1\" class=\"dataframe\">\n  <thead>\n    <tr style=\"text-align: right;\">\n      <th></th>\n      <th>month</th>\n      <th>day</th>\n      <th>Season</th>\n      <th>home</th>\n      <th>visitor</th>\n      <th>hgoal</th>\n      <th>vgoal</th>\n      <th>division</th>\n      <th>totgoal</th>\n      <th>goaldif</th>\n      <th>result</th>\n    </tr>\n  </thead>\n  <tbody>\n    <tr>\n      <th>131077</th>\n      <td>9</td>\n      <td>9</td>\n      <td>1986</td>\n      <td>34</td>\n      <td>Sheffield Wednesday</td>\n      <td>2</td>\n      <td>0</td>\n      <td>1</td>\n      <td>2</td>\n      <td>2</td>\n      <td>H</td>\n    </tr>\n    <tr>\n      <th>131078</th>\n      <td>9</td>\n      <td>9</td>\n      <td>1986</td>\n      <td>22</td>\n      <td>Wimbledon</td>\n      <td>0</td>\n      <td>1</td>\n      <td>1</td>\n      <td>1</td>\n      <td>-1</td>\n      <td>A</td>\n    </tr>\n    <tr>\n      <th>131079</th>\n      <td>9</td>\n      <td>9</td>\n      <td>1986</td>\n      <td>1</td>\n      <td>Coventry City</td>\n      <td>0</td>\n      <td>0</td>\n      <td>1</td>\n      <td>0</td>\n      <td>0</td>\n      <td>D</td>\n    </tr>\n    <tr>\n      <th>131080</th>\n      <td>9</td>\n      <td>9</td>\n      <td>1986</td>\n      <td>50</td>\n      <td>Oxford United</td>\n      <td>3</td>\n      <td>1</td>\n      <td>1</td>\n      <td>4</td>\n      <td>2</td>\n      <td>H</td>\n    </tr>\n    <tr>\n      <th>131081</th>\n      <td>9</td>\n      <td>9</td>\n      <td>1986</td>\n      <td>36</td>\n      <td>Tottenham Hotspur</td>\n      <td>2</td>\n      <td>0</td>\n      <td>1</td>\n      <td>2</td>\n      <td>2</td>\n      <td>H</td>\n    </tr>\n  </tbody>\n</table>\n</div>"
     },
     "metadata": {},
     "execution_count": 388
    }
   ],
   "source": [
    "football.home = football.home.apply(teams_dict.get)\n",
    "football.head()"
   ]
  },
  {
   "cell_type": "code",
   "execution_count": 389,
   "metadata": {},
   "outputs": [
    {
     "output_type": "execute_result",
     "data": {
      "text/plain": [
       "        month  day  Season  home  visitor  hgoal  vgoal  division  totgoal  \\\n",
       "131077      9    9    1986    34       42      2      0         1        2   \n",
       "131078      9    9    1986    22       52      0      1         1        1   \n",
       "131079      9    9    1986     1       41      0      0         1        0   \n",
       "131080      9    9    1986    50       30      3      1         1        4   \n",
       "131081      9    9    1986    36        4      2      0         1        2   \n",
       "\n",
       "        goaldif result  \n",
       "131077        2      H  \n",
       "131078       -1      A  \n",
       "131079        0      D  \n",
       "131080        2      H  \n",
       "131081        2      H  "
      ],
      "text/html": "<div>\n<style scoped>\n    .dataframe tbody tr th:only-of-type {\n        vertical-align: middle;\n    }\n\n    .dataframe tbody tr th {\n        vertical-align: top;\n    }\n\n    .dataframe thead th {\n        text-align: right;\n    }\n</style>\n<table border=\"1\" class=\"dataframe\">\n  <thead>\n    <tr style=\"text-align: right;\">\n      <th></th>\n      <th>month</th>\n      <th>day</th>\n      <th>Season</th>\n      <th>home</th>\n      <th>visitor</th>\n      <th>hgoal</th>\n      <th>vgoal</th>\n      <th>division</th>\n      <th>totgoal</th>\n      <th>goaldif</th>\n      <th>result</th>\n    </tr>\n  </thead>\n  <tbody>\n    <tr>\n      <th>131077</th>\n      <td>9</td>\n      <td>9</td>\n      <td>1986</td>\n      <td>34</td>\n      <td>42</td>\n      <td>2</td>\n      <td>0</td>\n      <td>1</td>\n      <td>2</td>\n      <td>2</td>\n      <td>H</td>\n    </tr>\n    <tr>\n      <th>131078</th>\n      <td>9</td>\n      <td>9</td>\n      <td>1986</td>\n      <td>22</td>\n      <td>52</td>\n      <td>0</td>\n      <td>1</td>\n      <td>1</td>\n      <td>1</td>\n      <td>-1</td>\n      <td>A</td>\n    </tr>\n    <tr>\n      <th>131079</th>\n      <td>9</td>\n      <td>9</td>\n      <td>1986</td>\n      <td>1</td>\n      <td>41</td>\n      <td>0</td>\n      <td>0</td>\n      <td>1</td>\n      <td>0</td>\n      <td>0</td>\n      <td>D</td>\n    </tr>\n    <tr>\n      <th>131080</th>\n      <td>9</td>\n      <td>9</td>\n      <td>1986</td>\n      <td>50</td>\n      <td>30</td>\n      <td>3</td>\n      <td>1</td>\n      <td>1</td>\n      <td>4</td>\n      <td>2</td>\n      <td>H</td>\n    </tr>\n    <tr>\n      <th>131081</th>\n      <td>9</td>\n      <td>9</td>\n      <td>1986</td>\n      <td>36</td>\n      <td>4</td>\n      <td>2</td>\n      <td>0</td>\n      <td>1</td>\n      <td>2</td>\n      <td>2</td>\n      <td>H</td>\n    </tr>\n  </tbody>\n</table>\n</div>"
     },
     "metadata": {},
     "execution_count": 389
    }
   ],
   "source": [
    "football.visitor = football.visitor.apply(teams_dict.get)\n",
    "football.head()"
   ]
  },
  {
   "cell_type": "code",
   "execution_count": 390,
   "metadata": {},
   "outputs": [],
   "source": [
    "football = football.drop('result', axis=1)\n",
    "football = football.drop('division', axis=1)\n",
    "football = football.drop('totgoal', axis=1)\n",
    "football = football.drop('goaldif', axis=1)"
   ]
  },
  {
   "cell_type": "code",
   "execution_count": 391,
   "metadata": {},
   "outputs": [],
   "source": [
    "football.rename(columns={'Season':'season'}, inplace=True)"
   ]
  },
  {
   "cell_type": "code",
   "execution_count": 392,
   "metadata": {},
   "outputs": [
    {
     "output_type": "execute_result",
     "data": {
      "text/plain": [
       "        month  day  season  home  visitor  hgoal  vgoal\n",
       "131077      9    9    1986    34       42      2      0\n",
       "131078      9    9    1986    22       52      0      1\n",
       "131079      9    9    1986     1       41      0      0\n",
       "131080      9    9    1986    50       30      3      1\n",
       "131081      9    9    1986    36        4      2      0"
      ],
      "text/html": "<div>\n<style scoped>\n    .dataframe tbody tr th:only-of-type {\n        vertical-align: middle;\n    }\n\n    .dataframe tbody tr th {\n        vertical-align: top;\n    }\n\n    .dataframe thead th {\n        text-align: right;\n    }\n</style>\n<table border=\"1\" class=\"dataframe\">\n  <thead>\n    <tr style=\"text-align: right;\">\n      <th></th>\n      <th>month</th>\n      <th>day</th>\n      <th>season</th>\n      <th>home</th>\n      <th>visitor</th>\n      <th>hgoal</th>\n      <th>vgoal</th>\n    </tr>\n  </thead>\n  <tbody>\n    <tr>\n      <th>131077</th>\n      <td>9</td>\n      <td>9</td>\n      <td>1986</td>\n      <td>34</td>\n      <td>42</td>\n      <td>2</td>\n      <td>0</td>\n    </tr>\n    <tr>\n      <th>131078</th>\n      <td>9</td>\n      <td>9</td>\n      <td>1986</td>\n      <td>22</td>\n      <td>52</td>\n      <td>0</td>\n      <td>1</td>\n    </tr>\n    <tr>\n      <th>131079</th>\n      <td>9</td>\n      <td>9</td>\n      <td>1986</td>\n      <td>1</td>\n      <td>41</td>\n      <td>0</td>\n      <td>0</td>\n    </tr>\n    <tr>\n      <th>131080</th>\n      <td>9</td>\n      <td>9</td>\n      <td>1986</td>\n      <td>50</td>\n      <td>30</td>\n      <td>3</td>\n      <td>1</td>\n    </tr>\n    <tr>\n      <th>131081</th>\n      <td>9</td>\n      <td>9</td>\n      <td>1986</td>\n      <td>36</td>\n      <td>4</td>\n      <td>2</td>\n      <td>0</td>\n    </tr>\n  </tbody>\n</table>\n</div>"
     },
     "metadata": {},
     "execution_count": 392
    }
   ],
   "source": [
    "football.head()"
   ]
  },
  {
   "cell_type": "code",
   "execution_count": 393,
   "metadata": {},
   "outputs": [
    {
     "output_type": "execute_result",
     "data": {
      "text/plain": [
       "        month  day  season  home  visitor  hgoal  vgoal\n",
       "198487      7    7    2019    35       17      0      2\n",
       "198488      7    7    2019    21       40      5      0\n",
       "198489      7    7    2019     8       39      1      3\n",
       "198490      7    7    2019    36       13      3      1\n",
       "198491      7    7    2019    16        2      1      1"
      ],
      "text/html": "<div>\n<style scoped>\n    .dataframe tbody tr th:only-of-type {\n        vertical-align: middle;\n    }\n\n    .dataframe tbody tr th {\n        vertical-align: top;\n    }\n\n    .dataframe thead th {\n        text-align: right;\n    }\n</style>\n<table border=\"1\" class=\"dataframe\">\n  <thead>\n    <tr style=\"text-align: right;\">\n      <th></th>\n      <th>month</th>\n      <th>day</th>\n      <th>season</th>\n      <th>home</th>\n      <th>visitor</th>\n      <th>hgoal</th>\n      <th>vgoal</th>\n    </tr>\n  </thead>\n  <tbody>\n    <tr>\n      <th>198487</th>\n      <td>7</td>\n      <td>7</td>\n      <td>2019</td>\n      <td>35</td>\n      <td>17</td>\n      <td>0</td>\n      <td>2</td>\n    </tr>\n    <tr>\n      <th>198488</th>\n      <td>7</td>\n      <td>7</td>\n      <td>2019</td>\n      <td>21</td>\n      <td>40</td>\n      <td>5</td>\n      <td>0</td>\n    </tr>\n    <tr>\n      <th>198489</th>\n      <td>7</td>\n      <td>7</td>\n      <td>2019</td>\n      <td>8</td>\n      <td>39</td>\n      <td>1</td>\n      <td>3</td>\n    </tr>\n    <tr>\n      <th>198490</th>\n      <td>7</td>\n      <td>7</td>\n      <td>2019</td>\n      <td>36</td>\n      <td>13</td>\n      <td>3</td>\n      <td>1</td>\n    </tr>\n    <tr>\n      <th>198491</th>\n      <td>7</td>\n      <td>7</td>\n      <td>2019</td>\n      <td>16</td>\n      <td>2</td>\n      <td>1</td>\n      <td>1</td>\n    </tr>\n  </tbody>\n</table>\n</div>"
     },
     "metadata": {},
     "execution_count": 393
    }
   ],
   "source": [
    "football.tail()"
   ]
  },
  {
   "cell_type": "code",
   "execution_count": 394,
   "metadata": {},
   "outputs": [
    {
     "output_type": "execute_result",
     "data": {
      "text/plain": [
       "array([1986, 1987, 1988, 1989, 1990, 1991, 1992, 1993, 1994, 1995, 1996,\n",
       "       1997, 1998, 1999, 2000, 2001, 2002, 2003, 2004, 2005, 2006, 2007,\n",
       "       2008, 2009, 2010, 2011, 2012, 2013, 2014, 2015, 2016, 2017, 2018,\n",
       "       2019])"
      ]
     },
     "metadata": {},
     "execution_count": 394
    }
   ],
   "source": [
    "football.season.unique()"
   ]
  },
  {
   "cell_type": "code",
   "execution_count": null,
   "metadata": {},
   "outputs": [],
   "source": []
  }
 ]
}