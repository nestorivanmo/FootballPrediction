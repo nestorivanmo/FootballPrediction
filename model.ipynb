{
 "metadata": {
  "language_info": {
   "codemirror_mode": {
    "name": "ipython",
    "version": 3
   },
   "file_extension": ".py",
   "mimetype": "text/x-python",
   "name": "python",
   "nbconvert_exporter": "python",
   "pygments_lexer": "ipython3",
   "version": "3.6.9-final"
  },
  "orig_nbformat": 2,
  "kernelspec": {
   "name": "python3",
   "display_name": "Python 3",
   "language": "python"
  }
 },
 "nbformat": 4,
 "nbformat_minor": 2,
 "cells": [
  {
   "cell_type": "code",
   "execution_count": 2,
   "metadata": {},
   "outputs": [],
   "source": [
    "%matplotlib qt\n",
    "\n",
    "import pandas as pd\n",
    "import numpy as np \n",
    "import matplotlib.pyplot as plt\n",
    "from mpl_toolkits import mplot3d\n",
    "import pickle\n"
   ]
  },
  {
   "cell_type": "code",
   "execution_count": 3,
   "metadata": {},
   "outputs": [],
   "source": [
    "from sklearn.model_selection import TimeSeriesSplit\n",
    "from sklearn.metrics import classification_report\n",
    "from sklearn.preprocessing import StandardScaler"
   ]
  },
  {
   "cell_type": "code",
   "execution_count": 4,
   "metadata": {},
   "outputs": [],
   "source": [
    "from sklearn.neighbors import KNeighborsClassifier\n",
    "from sklearn.naive_bayes import GaussianNB\n",
    "from sklearn.linear_model import LogisticRegression"
   ]
  },
  {
   "cell_type": "code",
   "execution_count": 11,
   "metadata": {},
   "outputs": [],
   "source": [
    "from sklearn.decomposition import PCA\n",
    "from sklearn.preprocessing import OneHotEncoder"
   ]
  },
  {
   "cell_type": "code",
   "execution_count": 6,
   "metadata": {},
   "outputs": [
    {
     "output_type": "execute_result",
     "data": {
      "text/plain": [
       "       season  week_day  year  month  day  home  visitor  home_current_points  \\\n",
       "11202    2007         1  2007      8   11     2       24                    0   \n",
       "11203    2007         1  2007      8   11     7       30                    0   \n",
       "11204    2007         1  2007      8   11    16       36                    1   \n",
       "11205    2007         1  2007      8   11    17       50                    3   \n",
       "11206    2007         1  2007      8   11    28        5                    0   \n",
       "\n",
       "       visitor_current_points  home_last_table_position  \\\n",
       "11202                       3                        11   \n",
       "11203                       3                         7   \n",
       "11204                       1                        21   \n",
       "11205                       0                         6   \n",
       "11206                       3                        12   \n",
       "\n",
       "       visitor_last_table_position  home_penultimate_table_position  \\\n",
       "11202                            3                               16   \n",
       "11203                           13                                8   \n",
       "11204                            9                               21   \n",
       "11205                           18                               11   \n",
       "11206                           10                               14   \n",
       "\n",
       "       visitor_penultimate_table_position  result  \n",
       "11202                                   3       3  \n",
       "11203                                   7       3  \n",
       "11204                                  17       1  \n",
       "11205                                  10       2  \n",
       "11206                                   6       3  "
      ],
      "text/html": "<div>\n<style scoped>\n    .dataframe tbody tr th:only-of-type {\n        vertical-align: middle;\n    }\n\n    .dataframe tbody tr th {\n        vertical-align: top;\n    }\n\n    .dataframe thead th {\n        text-align: right;\n    }\n</style>\n<table border=\"1\" class=\"dataframe\">\n  <thead>\n    <tr style=\"text-align: right;\">\n      <th></th>\n      <th>season</th>\n      <th>week_day</th>\n      <th>year</th>\n      <th>month</th>\n      <th>day</th>\n      <th>home</th>\n      <th>visitor</th>\n      <th>home_current_points</th>\n      <th>visitor_current_points</th>\n      <th>home_last_table_position</th>\n      <th>visitor_last_table_position</th>\n      <th>home_penultimate_table_position</th>\n      <th>visitor_penultimate_table_position</th>\n      <th>result</th>\n    </tr>\n  </thead>\n  <tbody>\n    <tr>\n      <th>11202</th>\n      <td>2007</td>\n      <td>1</td>\n      <td>2007</td>\n      <td>8</td>\n      <td>11</td>\n      <td>2</td>\n      <td>24</td>\n      <td>0</td>\n      <td>3</td>\n      <td>11</td>\n      <td>3</td>\n      <td>16</td>\n      <td>3</td>\n      <td>3</td>\n    </tr>\n    <tr>\n      <th>11203</th>\n      <td>2007</td>\n      <td>1</td>\n      <td>2007</td>\n      <td>8</td>\n      <td>11</td>\n      <td>7</td>\n      <td>30</td>\n      <td>0</td>\n      <td>3</td>\n      <td>7</td>\n      <td>13</td>\n      <td>8</td>\n      <td>7</td>\n      <td>3</td>\n    </tr>\n    <tr>\n      <th>11204</th>\n      <td>2007</td>\n      <td>1</td>\n      <td>2007</td>\n      <td>8</td>\n      <td>11</td>\n      <td>16</td>\n      <td>36</td>\n      <td>1</td>\n      <td>1</td>\n      <td>21</td>\n      <td>9</td>\n      <td>21</td>\n      <td>17</td>\n      <td>1</td>\n    </tr>\n    <tr>\n      <th>11205</th>\n      <td>2007</td>\n      <td>1</td>\n      <td>2007</td>\n      <td>8</td>\n      <td>11</td>\n      <td>17</td>\n      <td>50</td>\n      <td>3</td>\n      <td>0</td>\n      <td>6</td>\n      <td>18</td>\n      <td>11</td>\n      <td>10</td>\n      <td>2</td>\n    </tr>\n    <tr>\n      <th>11206</th>\n      <td>2007</td>\n      <td>1</td>\n      <td>2007</td>\n      <td>8</td>\n      <td>11</td>\n      <td>28</td>\n      <td>5</td>\n      <td>0</td>\n      <td>3</td>\n      <td>12</td>\n      <td>10</td>\n      <td>14</td>\n      <td>6</td>\n      <td>3</td>\n    </tr>\n  </tbody>\n</table>\n</div>"
     },
     "metadata": {},
     "execution_count": 6
    }
   ],
   "source": [
    "football = pd.read_csv('data/england-transformed.csv')\n",
    "football = football[football.season >= 2007]\n",
    "football.head()"
   ]
  },
  {
   "cell_type": "code",
   "execution_count": 7,
   "metadata": {},
   "outputs": [],
   "source": [
    "X = football.iloc[:, :-1].to_numpy()\n",
    "y = football.iloc[:, -1].to_numpy()"
   ]
  },
  {
   "cell_type": "code",
   "execution_count": 21,
   "metadata": {},
   "outputs": [
    {
     "output_type": "execute_result",
     "data": {
      "text/plain": [
       "array([[0., 0., 0., ..., 0., 0., 0.],\n",
       "       [0., 0., 0., ..., 0., 0., 0.],\n",
       "       [0., 0., 0., ..., 0., 0., 0.],\n",
       "       ...,\n",
       "       [0., 0., 0., ..., 0., 0., 0.],\n",
       "       [0., 0., 0., ..., 0., 0., 1.],\n",
       "       [0., 0., 0., ..., 0., 0., 1.]])"
      ]
     },
     "metadata": {},
     "execution_count": 21
    }
   ],
   "source": [
    "one_X = OneHotEncoder(drop='first').fit_transform(X).toarray()\n",
    "one_X"
   ]
  },
  {
   "cell_type": "code",
   "execution_count": 24,
   "metadata": {},
   "outputs": [
    {
     "output_type": "error",
     "ename": "TypeError",
     "evalue": "loop of ufunc does not support argument 0 of type NoneType which has no callable sqrt method",
     "traceback": [
      "\u001b[0;31m---------------------------------------------------------------------------\u001b[0m",
      "\u001b[0;31mAttributeError\u001b[0m                            Traceback (most recent call last)",
      "\u001b[0;31mAttributeError\u001b[0m: 'NoneType' object has no attribute 'sqrt'",
      "\nThe above exception was the direct cause of the following exception:\n",
      "\u001b[0;31mTypeError\u001b[0m                                 Traceback (most recent call last)",
      "\u001b[0;32m<ipython-input-24-422c72dd6c06>\u001b[0m in \u001b[0;36m<module>\u001b[0;34m\u001b[0m\n\u001b[1;32m      1\u001b[0m \u001b[0mpca\u001b[0m \u001b[0;34m=\u001b[0m \u001b[0mPCA\u001b[0m\u001b[0;34m(\u001b[0m\u001b[0mn_components\u001b[0m\u001b[0;34m=\u001b[0m\u001b[0;36m2\u001b[0m\u001b[0;34m)\u001b[0m\u001b[0;34m.\u001b[0m\u001b[0mfit_transform\u001b[0m\u001b[0;34m(\u001b[0m\u001b[0mone_X\u001b[0m\u001b[0;34m)\u001b[0m\u001b[0;34m\u001b[0m\u001b[0;34m\u001b[0m\u001b[0m\n\u001b[0;32m----> 2\u001b[0;31m \u001b[0mplt\u001b[0m\u001b[0;34m.\u001b[0m\u001b[0mscatter\u001b[0m\u001b[0;34m(\u001b[0m\u001b[0mpca\u001b[0m\u001b[0;34m[\u001b[0m\u001b[0;34m:\u001b[0m\u001b[0;34m,\u001b[0m \u001b[0;36m0\u001b[0m\u001b[0;34m]\u001b[0m\u001b[0;34m,\u001b[0m \u001b[0mpca\u001b[0m\u001b[0;34m[\u001b[0m\u001b[0;34m:\u001b[0m\u001b[0;34m,\u001b[0m \u001b[0;36m1\u001b[0m\u001b[0;34m]\u001b[0m\u001b[0;34m)\u001b[0m\u001b[0;34m\u001b[0m\u001b[0;34m\u001b[0m\u001b[0m\n\u001b[0m",
      "\u001b[0;32m~/EV/ML/lib/python3.6/site-packages/matplotlib/pyplot.py\u001b[0m in \u001b[0;36mscatter\u001b[0;34m(x, y, s, c, marker, cmap, norm, vmin, vmax, alpha, linewidths, verts, edgecolors, plotnonfinite, data, **kwargs)\u001b[0m\n\u001b[1;32m   2893\u001b[0m         \u001b[0mverts\u001b[0m\u001b[0;34m=\u001b[0m\u001b[0mverts\u001b[0m\u001b[0;34m,\u001b[0m \u001b[0medgecolors\u001b[0m\u001b[0;34m=\u001b[0m\u001b[0medgecolors\u001b[0m\u001b[0;34m,\u001b[0m\u001b[0;34m\u001b[0m\u001b[0;34m\u001b[0m\u001b[0m\n\u001b[1;32m   2894\u001b[0m         \u001b[0mplotnonfinite\u001b[0m\u001b[0;34m=\u001b[0m\u001b[0mplotnonfinite\u001b[0m\u001b[0;34m,\u001b[0m\u001b[0;34m\u001b[0m\u001b[0;34m\u001b[0m\u001b[0m\n\u001b[0;32m-> 2895\u001b[0;31m         **({\"data\": data} if data is not None else {}), **kwargs)\n\u001b[0m\u001b[1;32m   2896\u001b[0m     \u001b[0msci\u001b[0m\u001b[0;34m(\u001b[0m\u001b[0m__ret\u001b[0m\u001b[0;34m)\u001b[0m\u001b[0;34m\u001b[0m\u001b[0;34m\u001b[0m\u001b[0m\n\u001b[1;32m   2897\u001b[0m     \u001b[0;32mreturn\u001b[0m \u001b[0m__ret\u001b[0m\u001b[0;34m\u001b[0m\u001b[0;34m\u001b[0m\u001b[0m\n",
      "\u001b[0;32m~/EV/ML/lib/python3.6/site-packages/mpl_toolkits/mplot3d/axes3d.py\u001b[0m in \u001b[0;36mscatter\u001b[0;34m(self, xs, ys, zs, zdir, s, c, depthshade, *args, **kwargs)\u001b[0m\n\u001b[1;32m   2310\u001b[0m             \u001b[0mzs\u001b[0m \u001b[0;34m=\u001b[0m \u001b[0mzs\u001b[0m\u001b[0;34m.\u001b[0m\u001b[0mcopy\u001b[0m\u001b[0;34m(\u001b[0m\u001b[0;34m)\u001b[0m\u001b[0;34m\u001b[0m\u001b[0;34m\u001b[0m\u001b[0m\n\u001b[1;32m   2311\u001b[0m \u001b[0;34m\u001b[0m\u001b[0m\n\u001b[0;32m-> 2312\u001b[0;31m         \u001b[0mpatches\u001b[0m \u001b[0;34m=\u001b[0m \u001b[0msuper\u001b[0m\u001b[0;34m(\u001b[0m\u001b[0;34m)\u001b[0m\u001b[0;34m.\u001b[0m\u001b[0mscatter\u001b[0m\u001b[0;34m(\u001b[0m\u001b[0mxs\u001b[0m\u001b[0;34m,\u001b[0m \u001b[0mys\u001b[0m\u001b[0;34m,\u001b[0m \u001b[0ms\u001b[0m\u001b[0;34m=\u001b[0m\u001b[0ms\u001b[0m\u001b[0;34m,\u001b[0m \u001b[0mc\u001b[0m\u001b[0;34m=\u001b[0m\u001b[0mc\u001b[0m\u001b[0;34m,\u001b[0m \u001b[0;34m*\u001b[0m\u001b[0margs\u001b[0m\u001b[0;34m,\u001b[0m \u001b[0;34m**\u001b[0m\u001b[0mkwargs\u001b[0m\u001b[0;34m)\u001b[0m\u001b[0;34m\u001b[0m\u001b[0;34m\u001b[0m\u001b[0m\n\u001b[0m\u001b[1;32m   2313\u001b[0m         art3d.patch_collection_2d_to_3d(patches, zs=zs, zdir=zdir,\n\u001b[1;32m   2314\u001b[0m                                         depthshade=depthshade)\n",
      "\u001b[0;32m~/EV/ML/lib/python3.6/site-packages/matplotlib/__init__.py\u001b[0m in \u001b[0;36minner\u001b[0;34m(ax, data, *args, **kwargs)\u001b[0m\n\u001b[1;32m   1436\u001b[0m     \u001b[0;32mdef\u001b[0m \u001b[0minner\u001b[0m\u001b[0;34m(\u001b[0m\u001b[0max\u001b[0m\u001b[0;34m,\u001b[0m \u001b[0;34m*\u001b[0m\u001b[0margs\u001b[0m\u001b[0;34m,\u001b[0m \u001b[0mdata\u001b[0m\u001b[0;34m=\u001b[0m\u001b[0;32mNone\u001b[0m\u001b[0;34m,\u001b[0m \u001b[0;34m**\u001b[0m\u001b[0mkwargs\u001b[0m\u001b[0;34m)\u001b[0m\u001b[0;34m:\u001b[0m\u001b[0;34m\u001b[0m\u001b[0;34m\u001b[0m\u001b[0m\n\u001b[1;32m   1437\u001b[0m         \u001b[0;32mif\u001b[0m \u001b[0mdata\u001b[0m \u001b[0;32mis\u001b[0m \u001b[0;32mNone\u001b[0m\u001b[0;34m:\u001b[0m\u001b[0;34m\u001b[0m\u001b[0;34m\u001b[0m\u001b[0m\n\u001b[0;32m-> 1438\u001b[0;31m             \u001b[0;32mreturn\u001b[0m \u001b[0mfunc\u001b[0m\u001b[0;34m(\u001b[0m\u001b[0max\u001b[0m\u001b[0;34m,\u001b[0m \u001b[0;34m*\u001b[0m\u001b[0mmap\u001b[0m\u001b[0;34m(\u001b[0m\u001b[0msanitize_sequence\u001b[0m\u001b[0;34m,\u001b[0m \u001b[0margs\u001b[0m\u001b[0;34m)\u001b[0m\u001b[0;34m,\u001b[0m \u001b[0;34m**\u001b[0m\u001b[0mkwargs\u001b[0m\u001b[0;34m)\u001b[0m\u001b[0;34m\u001b[0m\u001b[0;34m\u001b[0m\u001b[0m\n\u001b[0m\u001b[1;32m   1439\u001b[0m \u001b[0;34m\u001b[0m\u001b[0m\n\u001b[1;32m   1440\u001b[0m         \u001b[0mbound\u001b[0m \u001b[0;34m=\u001b[0m \u001b[0mnew_sig\u001b[0m\u001b[0;34m.\u001b[0m\u001b[0mbind\u001b[0m\u001b[0;34m(\u001b[0m\u001b[0max\u001b[0m\u001b[0;34m,\u001b[0m \u001b[0;34m*\u001b[0m\u001b[0margs\u001b[0m\u001b[0;34m,\u001b[0m \u001b[0;34m**\u001b[0m\u001b[0mkwargs\u001b[0m\u001b[0;34m)\u001b[0m\u001b[0;34m\u001b[0m\u001b[0;34m\u001b[0m\u001b[0m\n",
      "\u001b[0;32m~/EV/ML/lib/python3.6/site-packages/matplotlib/cbook/deprecation.py\u001b[0m in \u001b[0;36mwrapper\u001b[0;34m(*inner_args, **inner_kwargs)\u001b[0m\n\u001b[1;32m    409\u001b[0m                          \u001b[0;32melse\u001b[0m \u001b[0mdeprecation_addendum\u001b[0m\u001b[0;34m,\u001b[0m\u001b[0;34m\u001b[0m\u001b[0;34m\u001b[0m\u001b[0m\n\u001b[1;32m    410\u001b[0m                 **kwargs)\n\u001b[0;32m--> 411\u001b[0;31m         \u001b[0;32mreturn\u001b[0m \u001b[0mfunc\u001b[0m\u001b[0;34m(\u001b[0m\u001b[0;34m*\u001b[0m\u001b[0minner_args\u001b[0m\u001b[0;34m,\u001b[0m \u001b[0;34m**\u001b[0m\u001b[0minner_kwargs\u001b[0m\u001b[0;34m)\u001b[0m\u001b[0;34m\u001b[0m\u001b[0;34m\u001b[0m\u001b[0m\n\u001b[0m\u001b[1;32m    412\u001b[0m \u001b[0;34m\u001b[0m\u001b[0m\n\u001b[1;32m    413\u001b[0m     \u001b[0;32mreturn\u001b[0m \u001b[0mwrapper\u001b[0m\u001b[0;34m\u001b[0m\u001b[0;34m\u001b[0m\u001b[0m\n",
      "\u001b[0;32m~/EV/ML/lib/python3.6/site-packages/matplotlib/axes/_axes.py\u001b[0m in \u001b[0;36mscatter\u001b[0;34m(self, x, y, s, c, marker, cmap, norm, vmin, vmax, alpha, linewidths, verts, edgecolors, plotnonfinite, **kwargs)\u001b[0m\n\u001b[1;32m   4493\u001b[0m                 \u001b[0moffsets\u001b[0m\u001b[0;34m=\u001b[0m\u001b[0moffsets\u001b[0m\u001b[0;34m,\u001b[0m\u001b[0;34m\u001b[0m\u001b[0;34m\u001b[0m\u001b[0m\n\u001b[1;32m   4494\u001b[0m                 \u001b[0mtransOffset\u001b[0m\u001b[0;34m=\u001b[0m\u001b[0mkwargs\u001b[0m\u001b[0;34m.\u001b[0m\u001b[0mpop\u001b[0m\u001b[0;34m(\u001b[0m\u001b[0;34m'transform'\u001b[0m\u001b[0;34m,\u001b[0m \u001b[0mself\u001b[0m\u001b[0;34m.\u001b[0m\u001b[0mtransData\u001b[0m\u001b[0;34m)\u001b[0m\u001b[0;34m,\u001b[0m\u001b[0;34m\u001b[0m\u001b[0;34m\u001b[0m\u001b[0m\n\u001b[0;32m-> 4495\u001b[0;31m                 \u001b[0malpha\u001b[0m\u001b[0;34m=\u001b[0m\u001b[0malpha\u001b[0m\u001b[0;34m\u001b[0m\u001b[0;34m\u001b[0m\u001b[0m\n\u001b[0m\u001b[1;32m   4496\u001b[0m                 )\n\u001b[1;32m   4497\u001b[0m         \u001b[0mcollection\u001b[0m\u001b[0;34m.\u001b[0m\u001b[0mset_transform\u001b[0m\u001b[0;34m(\u001b[0m\u001b[0mmtransforms\u001b[0m\u001b[0;34m.\u001b[0m\u001b[0mIdentityTransform\u001b[0m\u001b[0;34m(\u001b[0m\u001b[0;34m)\u001b[0m\u001b[0;34m)\u001b[0m\u001b[0;34m\u001b[0m\u001b[0;34m\u001b[0m\u001b[0m\n",
      "\u001b[0;32m~/EV/ML/lib/python3.6/site-packages/matplotlib/collections.py\u001b[0m in \u001b[0;36m__init__\u001b[0;34m(self, paths, sizes, **kwargs)\u001b[0m\n\u001b[1;32m    953\u001b[0m         \u001b[0msuper\u001b[0m\u001b[0;34m(\u001b[0m\u001b[0;34m)\u001b[0m\u001b[0;34m.\u001b[0m\u001b[0m__init__\u001b[0m\u001b[0;34m(\u001b[0m\u001b[0;34m**\u001b[0m\u001b[0mkwargs\u001b[0m\u001b[0;34m)\u001b[0m\u001b[0;34m\u001b[0m\u001b[0;34m\u001b[0m\u001b[0m\n\u001b[1;32m    954\u001b[0m         \u001b[0mself\u001b[0m\u001b[0;34m.\u001b[0m\u001b[0mset_paths\u001b[0m\u001b[0;34m(\u001b[0m\u001b[0mpaths\u001b[0m\u001b[0;34m)\u001b[0m\u001b[0;34m\u001b[0m\u001b[0;34m\u001b[0m\u001b[0m\n\u001b[0;32m--> 955\u001b[0;31m         \u001b[0mself\u001b[0m\u001b[0;34m.\u001b[0m\u001b[0mset_sizes\u001b[0m\u001b[0;34m(\u001b[0m\u001b[0msizes\u001b[0m\u001b[0;34m)\u001b[0m\u001b[0;34m\u001b[0m\u001b[0;34m\u001b[0m\u001b[0m\n\u001b[0m\u001b[1;32m    956\u001b[0m         \u001b[0mself\u001b[0m\u001b[0;34m.\u001b[0m\u001b[0mstale\u001b[0m \u001b[0;34m=\u001b[0m \u001b[0;32mTrue\u001b[0m\u001b[0;34m\u001b[0m\u001b[0;34m\u001b[0m\u001b[0m\n\u001b[1;32m    957\u001b[0m \u001b[0;34m\u001b[0m\u001b[0m\n",
      "\u001b[0;32m~/EV/ML/lib/python3.6/site-packages/matplotlib/collections.py\u001b[0m in \u001b[0;36mset_sizes\u001b[0;34m(self, sizes, dpi)\u001b[0m\n\u001b[1;32m    920\u001b[0m             \u001b[0mself\u001b[0m\u001b[0;34m.\u001b[0m\u001b[0m_sizes\u001b[0m \u001b[0;34m=\u001b[0m \u001b[0mnp\u001b[0m\u001b[0;34m.\u001b[0m\u001b[0masarray\u001b[0m\u001b[0;34m(\u001b[0m\u001b[0msizes\u001b[0m\u001b[0;34m)\u001b[0m\u001b[0;34m\u001b[0m\u001b[0;34m\u001b[0m\u001b[0m\n\u001b[1;32m    921\u001b[0m             \u001b[0mself\u001b[0m\u001b[0;34m.\u001b[0m\u001b[0m_transforms\u001b[0m \u001b[0;34m=\u001b[0m \u001b[0mnp\u001b[0m\u001b[0;34m.\u001b[0m\u001b[0mzeros\u001b[0m\u001b[0;34m(\u001b[0m\u001b[0;34m(\u001b[0m\u001b[0mlen\u001b[0m\u001b[0;34m(\u001b[0m\u001b[0mself\u001b[0m\u001b[0;34m.\u001b[0m\u001b[0m_sizes\u001b[0m\u001b[0;34m)\u001b[0m\u001b[0;34m,\u001b[0m \u001b[0;36m3\u001b[0m\u001b[0;34m,\u001b[0m \u001b[0;36m3\u001b[0m\u001b[0;34m)\u001b[0m\u001b[0;34m)\u001b[0m\u001b[0;34m\u001b[0m\u001b[0;34m\u001b[0m\u001b[0m\n\u001b[0;32m--> 922\u001b[0;31m             \u001b[0mscale\u001b[0m \u001b[0;34m=\u001b[0m \u001b[0mnp\u001b[0m\u001b[0;34m.\u001b[0m\u001b[0msqrt\u001b[0m\u001b[0;34m(\u001b[0m\u001b[0mself\u001b[0m\u001b[0;34m.\u001b[0m\u001b[0m_sizes\u001b[0m\u001b[0;34m)\u001b[0m \u001b[0;34m*\u001b[0m \u001b[0mdpi\u001b[0m \u001b[0;34m/\u001b[0m \u001b[0;36m72.0\u001b[0m \u001b[0;34m*\u001b[0m \u001b[0mself\u001b[0m\u001b[0;34m.\u001b[0m\u001b[0m_factor\u001b[0m\u001b[0;34m\u001b[0m\u001b[0;34m\u001b[0m\u001b[0m\n\u001b[0m\u001b[1;32m    923\u001b[0m             \u001b[0mself\u001b[0m\u001b[0;34m.\u001b[0m\u001b[0m_transforms\u001b[0m\u001b[0;34m[\u001b[0m\u001b[0;34m:\u001b[0m\u001b[0;34m,\u001b[0m \u001b[0;36m0\u001b[0m\u001b[0;34m,\u001b[0m \u001b[0;36m0\u001b[0m\u001b[0;34m]\u001b[0m \u001b[0;34m=\u001b[0m \u001b[0mscale\u001b[0m\u001b[0;34m\u001b[0m\u001b[0;34m\u001b[0m\u001b[0m\n\u001b[1;32m    924\u001b[0m             \u001b[0mself\u001b[0m\u001b[0;34m.\u001b[0m\u001b[0m_transforms\u001b[0m\u001b[0;34m[\u001b[0m\u001b[0;34m:\u001b[0m\u001b[0;34m,\u001b[0m \u001b[0;36m1\u001b[0m\u001b[0;34m,\u001b[0m \u001b[0;36m1\u001b[0m\u001b[0;34m]\u001b[0m \u001b[0;34m=\u001b[0m \u001b[0mscale\u001b[0m\u001b[0;34m\u001b[0m\u001b[0;34m\u001b[0m\u001b[0m\n",
      "\u001b[0;31mTypeError\u001b[0m: loop of ufunc does not support argument 0 of type NoneType which has no callable sqrt method"
     ]
    }
   ],
   "source": [
    "pca = PCA(n_components=2).fit_transform(one_X)\n"
   ]
  },
  {
   "source": [
    "scaler = StandardScaler()\n",
    "X = scaler.fit_transform(X)"
   ],
   "cell_type": "code",
   "metadata": {},
   "execution_count": 13,
   "outputs": []
  },
  {
   "cell_type": "code",
   "execution_count": 9,
   "metadata": {},
   "outputs": [],
   "source": [
    "pca = PCA(n_components=3).fit_transform(X)"
   ]
  },
  {
   "cell_type": "code",
   "execution_count": 10,
   "metadata": {},
   "outputs": [],
   "source": [
    "fig = plt.figure()\n",
    "ax = plt.axes(projection='3d')\n",
    "ax.scatter(pca[:, 0], pca[:, 1], pca[:, 2], c = y)\n",
    "ax.set_ylabel(\"Y−axis\")\n",
    "ax.set_xlabel(\"X−axis\")\n",
    "ax.set_zlabel(\"Z−axis\")\n",
    "plt.show()"
   ]
  },
  {
   "cell_type": "code",
   "execution_count": 17,
   "metadata": {},
   "outputs": [
    {
     "output_type": "stream",
     "name": "stdout",
     "text": [
      "              precision    recall  f1-score   support\n\n           1       0.25      0.41      0.31       114\n           2       0.55      0.28      0.38       215\n           3       0.31      0.38      0.34       120\n\n    accuracy                           0.34       449\n   macro avg       0.37      0.36      0.34       449\nweighted avg       0.41      0.34      0.35       449\n\n              precision    recall  f1-score   support\n\n           1       0.32      0.82      0.46       130\n           2       0.74      0.08      0.14       213\n           3       0.28      0.25      0.26       106\n\n    accuracy                           0.33       449\n   macro avg       0.45      0.38      0.29       449\nweighted avg       0.51      0.33      0.26       449\n\n              precision    recall  f1-score   support\n\n           1       0.26      0.78      0.39       116\n           2       0.52      0.08      0.14       206\n           3       0.31      0.16      0.21       127\n\n    accuracy                           0.29       449\n   macro avg       0.36      0.34      0.25       449\nweighted avg       0.39      0.29      0.22       449\n\n              precision    recall  f1-score   support\n\n           1       0.28      0.63      0.39       124\n           2       0.69      0.17      0.27       206\n           3       0.33      0.33      0.33       119\n\n    accuracy                           0.34       449\n   macro avg       0.43      0.38      0.33       449\nweighted avg       0.48      0.34      0.32       449\n\n              precision    recall  f1-score   support\n\n           1       0.23      0.84      0.36        99\n           2       0.62      0.10      0.17       201\n           3       0.53      0.18      0.27       149\n\n    accuracy                           0.29       449\n   macro avg       0.46      0.37      0.27       449\nweighted avg       0.51      0.29      0.25       449\n\n              precision    recall  f1-score   support\n\n           1       0.27      0.88      0.41       111\n           2       0.61      0.07      0.13       197\n           3       0.40      0.16      0.23       141\n\n    accuracy                           0.30       449\n   macro avg       0.43      0.37      0.26       449\nweighted avg       0.46      0.30      0.23       449\n\n              precision    recall  f1-score   support\n\n           1       0.27      0.89      0.41       117\n           2       0.56      0.10      0.17       205\n           3       0.45      0.08      0.13       127\n\n    accuracy                           0.30       449\n   macro avg       0.43      0.36      0.24       449\nweighted avg       0.45      0.30      0.22       449\n\n              precision    recall  f1-score   support\n\n           1       0.27      0.94      0.41       109\n           2       0.79      0.13      0.22       210\n           3       0.62      0.15      0.25       130\n\n    accuracy                           0.33       449\n   macro avg       0.56      0.41      0.29       449\nweighted avg       0.62      0.33      0.28       449\n\n              precision    recall  f1-score   support\n\n           1       0.21      0.83      0.34        92\n           2       0.73      0.18      0.28       216\n           3       0.51      0.13      0.21       141\n\n    accuracy                           0.30       449\n   macro avg       0.49      0.38      0.28       449\nweighted avg       0.56      0.30      0.27       449\n\n              precision    recall  f1-score   support\n\n           1       0.26      0.93      0.41       105\n           2       0.73      0.12      0.20       203\n           3       0.50      0.16      0.25       141\n\n    accuracy                           0.32       449\n   macro avg       0.50      0.40      0.29       449\nweighted avg       0.55      0.32      0.27       449\n\n"
     ]
    }
   ],
   "source": [
    "tcsv = TimeSeriesSplit(n_splits=10)\n",
    "for train_index, test_index in tcsv.split(one_X):\n",
    "    #print(f'Train idx: {train_index}, Test idx: {test_index}')\n",
    "    X_train, X_test = one_X[train_index], one_X[test_index]\n",
    "    y_train, y_test = y[train_index], y[test_index]\n",
    "    model = GaussianNB().fit(X_train, y_train)\n",
    "    y_pred = model.predict(X_test)\n",
    "    print(classification_report(y_test, y_pred, labels=[1,2,3]))"
   ]
  },
  {
   "cell_type": "code",
   "execution_count": 19,
   "metadata": {},
   "outputs": [
    {
     "output_type": "stream",
     "name": "stdout",
     "text": [
      "              precision    recall  f1-score   support\n",
      "\n",
      "           1       0.26      0.05      0.09       114\n",
      "           2       0.50      0.73      0.59       215\n",
      "           3       0.37      0.36      0.37       120\n",
      "\n",
      "    accuracy                           0.46       449\n",
      "   macro avg       0.38      0.38      0.35       449\n",
      "weighted avg       0.41      0.46      0.40       449\n",
      "\n",
      "              precision    recall  f1-score   support\n",
      "\n",
      "           1       0.28      0.08      0.13       130\n",
      "           2       0.49      0.74      0.59       213\n",
      "           3       0.29      0.24      0.26       106\n",
      "\n",
      "    accuracy                           0.43       449\n",
      "   macro avg       0.35      0.35      0.33       449\n",
      "weighted avg       0.38      0.43      0.38       449\n",
      "\n",
      "              precision    recall  f1-score   support\n",
      "\n",
      "           1       0.22      0.18      0.20       116\n",
      "           2       0.48      0.72      0.58       206\n",
      "           3       0.33      0.13      0.18       127\n",
      "\n",
      "    accuracy                           0.41       449\n",
      "   macro avg       0.35      0.34      0.32       449\n",
      "weighted avg       0.37      0.41      0.37       449\n",
      "\n",
      "              precision    recall  f1-score   support\n",
      "\n",
      "           1       0.27      0.21      0.24       124\n",
      "           2       0.53      0.72      0.61       206\n",
      "           3       0.42      0.26      0.32       119\n",
      "\n",
      "    accuracy                           0.46       449\n",
      "   macro avg       0.41      0.40      0.39       449\n",
      "weighted avg       0.43      0.46      0.43       449\n",
      "\n",
      "              precision    recall  f1-score   support\n",
      "\n",
      "           1       0.28      0.24      0.26        99\n",
      "           2       0.51      0.72      0.59       201\n",
      "           3       0.49      0.26      0.33       149\n",
      "\n",
      "    accuracy                           0.46       449\n",
      "   macro avg       0.42      0.40      0.40       449\n",
      "weighted avg       0.45      0.46      0.43       449\n",
      "\n",
      "              precision    recall  f1-score   support\n",
      "\n",
      "           1       0.33      0.31      0.32       111\n",
      "           2       0.50      0.66      0.57       197\n",
      "           3       0.52      0.33      0.40       141\n",
      "\n",
      "    accuracy                           0.47       449\n",
      "   macro avg       0.45      0.43      0.43       449\n",
      "weighted avg       0.47      0.47      0.46       449\n",
      "\n",
      "              precision    recall  f1-score   support\n",
      "\n",
      "           1       0.33      0.27      0.30       117\n",
      "           2       0.53      0.62      0.57       205\n",
      "           3       0.40      0.35      0.37       127\n",
      "\n",
      "    accuracy                           0.45       449\n",
      "   macro avg       0.42      0.42      0.42       449\n",
      "weighted avg       0.44      0.45      0.45       449\n",
      "\n",
      "              precision    recall  f1-score   support\n",
      "\n",
      "           1       0.30      0.21      0.25       109\n",
      "           2       0.54      0.73      0.62       210\n",
      "           3       0.55      0.38      0.45       130\n",
      "\n",
      "    accuracy                           0.50       449\n",
      "   macro avg       0.47      0.44      0.44       449\n",
      "weighted avg       0.49      0.50      0.48       449\n",
      "\n",
      "              precision    recall  f1-score   support\n",
      "\n",
      "           1       0.29      0.23      0.25        92\n",
      "           2       0.56      0.74      0.64       216\n",
      "           3       0.52      0.33      0.41       141\n",
      "\n",
      "    accuracy                           0.51       449\n",
      "   macro avg       0.46      0.43      0.43       449\n",
      "weighted avg       0.49      0.51      0.49       449\n",
      "\n",
      "              precision    recall  f1-score   support\n",
      "\n",
      "           1       0.34      0.18      0.24       105\n",
      "           2       0.52      0.80      0.63       203\n",
      "           3       0.54      0.31      0.40       141\n",
      "\n",
      "    accuracy                           0.50       449\n",
      "   macro avg       0.47      0.43      0.42       449\n",
      "weighted avg       0.48      0.50      0.46       449\n",
      "\n"
     ]
    }
   ],
   "source": [
    "tcsv = TimeSeriesSplit(n_splits=10)\n",
    "for train_index, test_index in tcsv.split(one_X):\n",
    "    #print(f'Train idx: {train_index}, Test idx: {test_index}')\n",
    "    X_train, X_test = one_X[train_index], one_X[test_index]\n",
    "    y_train, y_test = y[train_index], y[test_index]\n",
    "    model = KNeighborsClassifier(n_neighbors=13).fit(X_train, y_train)\n",
    "    y_pred = model.predict(X_test)\n",
    "    print(classification_report(y_test, y_pred, labels=[1,2,3]))"
   ]
  },
  {
   "cell_type": "code",
   "execution_count": 18,
   "metadata": {},
   "outputs": [
    {
     "output_type": "stream",
     "name": "stdout",
     "text": [
      "              precision    recall  f1-score   support\n",
      "\n",
      "           1       0.25      0.17      0.20       114\n",
      "           2       0.61      0.48      0.54       215\n",
      "           3       0.37      0.62      0.46       120\n",
      "\n",
      "    accuracy                           0.44       449\n",
      "   macro avg       0.41      0.42      0.40       449\n",
      "weighted avg       0.45      0.44      0.43       449\n",
      "\n",
      "              precision    recall  f1-score   support\n",
      "\n",
      "           1       0.32      0.28      0.30       130\n",
      "           2       0.55      0.62      0.58       213\n",
      "           3       0.29      0.26      0.27       106\n",
      "\n",
      "    accuracy                           0.43       449\n",
      "   macro avg       0.39      0.39      0.38       449\n",
      "weighted avg       0.42      0.43      0.43       449\n",
      "\n",
      "              precision    recall  f1-score   support\n",
      "\n",
      "           1       0.27      0.26      0.26       116\n",
      "           2       0.52      0.57      0.54       206\n",
      "           3       0.42      0.36      0.39       127\n",
      "\n",
      "    accuracy                           0.43       449\n",
      "   macro avg       0.40      0.40      0.40       449\n",
      "weighted avg       0.43      0.43      0.43       449\n",
      "\n",
      "              precision    recall  f1-score   support\n",
      "\n",
      "           1       0.38      0.28      0.32       124\n",
      "           2       0.59      0.71      0.65       206\n",
      "           3       0.44      0.40      0.42       119\n",
      "\n",
      "    accuracy                           0.51       449\n",
      "   macro avg       0.47      0.46      0.46       449\n",
      "weighted avg       0.49      0.51      0.50       449\n",
      "\n",
      "              precision    recall  f1-score   support\n",
      "\n",
      "           1       0.30      0.33      0.32        99\n",
      "           2       0.59      0.69      0.64       201\n",
      "           3       0.56      0.39      0.46       149\n",
      "\n",
      "    accuracy                           0.51       449\n",
      "   macro avg       0.48      0.47      0.47       449\n",
      "weighted avg       0.52      0.51      0.51       449\n",
      "\n",
      "              precision    recall  f1-score   support\n",
      "\n",
      "           1       0.32      0.40      0.35       111\n",
      "           2       0.59      0.51      0.55       197\n",
      "           3       0.51      0.52      0.52       141\n",
      "\n",
      "    accuracy                           0.48       449\n",
      "   macro avg       0.47      0.47      0.47       449\n",
      "weighted avg       0.50      0.48      0.49       449\n",
      "\n",
      "              precision    recall  f1-score   support\n",
      "\n",
      "           1       0.28      0.24      0.26       117\n",
      "           2       0.57      0.61      0.59       205\n",
      "           3       0.41      0.42      0.42       127\n",
      "\n",
      "    accuracy                           0.46       449\n",
      "   macro avg       0.42      0.42      0.42       449\n",
      "weighted avg       0.45      0.46      0.45       449\n",
      "\n",
      "              precision    recall  f1-score   support\n",
      "\n",
      "           1       0.29      0.16      0.20       109\n",
      "           2       0.61      0.80      0.69       210\n",
      "           3       0.60      0.52      0.55       130\n",
      "\n",
      "    accuracy                           0.56       449\n",
      "   macro avg       0.50      0.49      0.48       449\n",
      "weighted avg       0.53      0.56      0.53       449\n",
      "\n",
      "              precision    recall  f1-score   support\n",
      "\n",
      "           1       0.31      0.20      0.24        92\n",
      "           2       0.62      0.74      0.67       216\n",
      "           3       0.61      0.58      0.60       141\n",
      "\n",
      "    accuracy                           0.58       449\n",
      "   macro avg       0.51      0.50      0.50       449\n",
      "weighted avg       0.55      0.58      0.56       449\n",
      "\n",
      "              precision    recall  f1-score   support\n",
      "\n",
      "           1       0.40      0.19      0.26       105\n",
      "           2       0.55      0.74      0.63       203\n",
      "           3       0.52      0.45      0.48       141\n",
      "\n",
      "    accuracy                           0.52       449\n",
      "   macro avg       0.49      0.46      0.46       449\n",
      "weighted avg       0.50      0.52      0.50       449\n",
      "\n"
     ]
    }
   ],
   "source": [
    "tcsv = TimeSeriesSplit(n_splits=10)\n",
    "for train_index, test_index in tcsv.split(one_X):\n",
    "    #print(f'Train idx: {train_index}, Test idx: {test_index}')\n",
    "    X_train, X_test = one_X[train_index], one_X[test_index]\n",
    "    y_train, y_test = y[train_index], y[test_index]\n",
    "    model = LogisticRegression(multi_class='multinomial').fit(X_train, y_train)\n",
    "    y_pred = model.predict(X_test)\n",
    "    print(classification_report(y_test, y_pred, labels=[1,2,3]))"
   ]
  },
  {
   "cell_type": "code",
   "execution_count": 204,
   "metadata": {},
   "outputs": [],
   "source": [
    "model = KNeighborsClassifier(n_neighbors=15).fit(X, y)\n",
    "pkl_filename = \"model.pkl\"\n",
    "with open(pkl_filename, 'wb') as file:\n",
    "    pickle.dump(model, file)"
   ]
  },
  {
   "cell_type": "code",
   "execution_count": null,
   "metadata": {},
   "outputs": [],
   "source": []
  }
 ]
}